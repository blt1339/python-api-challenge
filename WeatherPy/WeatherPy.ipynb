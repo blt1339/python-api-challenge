{
 "cells": [
  {
   "cell_type": "markdown",
   "metadata": {},
   "source": [
    "# WeatherPy\n",
    "----\n",
    "\n",
    "#### Note\n",
    "* Instructions have been included for each segment. You do not have to follow them exactly, but they are included to help you think through the steps."
   ]
  },
  {
   "cell_type": "code",
   "execution_count": 1,
   "metadata": {
    "scrolled": true
   },
   "outputs": [],
   "source": [
    "# Dependencies\n",
    "import pandas as pd\n",
    "import matplotlib.pyplot as plt\n",
    "import numpy as np\n",
    "import requests\n",
    "import json\n",
    "import csv\n",
    "import datetime\n",
    "import time\n",
    "from citipy import citipy\n",
    "import random\n",
    "from scipy.stats import linregress\n",
    "\n",
    "# Google API Key\n",
    "from api_keys import g_key"
   ]
  },
  {
   "cell_type": "markdown",
   "metadata": {},
   "source": [
    "## Generate Cities List"
   ]
  },
  {
   "cell_type": "code",
   "execution_count": 2,
   "metadata": {},
   "outputs": [],
   "source": [
    "# Setup the ranges for latitude and longitude\n",
    "latitude_range = (-90,90)\n",
    "longatude_range = (-180,180)\n",
    "\n",
    "# Create variables for data\n",
    "cities = []\n",
    "\n",
    "no_cities = 1500\n",
    "for cntr in range(no_cities):\n",
    "    latitude = random.uniform(latitude_range[0],latitude_range[1])\n",
    "    longitude = random.uniform(longatude_range[0],longatude_range[1])\n",
    "    \n",
    "    # If we have chosen a latitude of 0 then we don't want to use that\n",
    "    # one\n",
    "    if latitude != 0:\n",
    "        city = citipy.nearest_city(latitude,longitude)\n",
    "        city_name = city.city_name\n",
    "        city_country = city.country_code\n",
    "        if not any(c['name'] == city_name and c['country'] == city_country for c in cities):\n",
    "            city_dict = {'name': city_name,'country': city_country}\n",
    "            cities.append(city_dict)"
   ]
  },
  {
   "cell_type": "code",
   "execution_count": 3,
   "metadata": {},
   "outputs": [
    {
     "name": "stdout",
     "output_type": "stream",
     "text": [
      "[{'name': 'kintampo', 'country': 'gh'}, {'name': 'clyde river', 'country': 'ca'}, {'name': 'zabol', 'country': 'ir'}, {'name': 'bluff', 'country': 'nz'}, {'name': 'saskylakh', 'country': 'ru'}, {'name': 'hermanus', 'country': 'za'}, {'name': 'bengkulu', 'country': 'id'}, {'name': 'mendeleyevsk', 'country': 'ru'}, {'name': 'ushuaia', 'country': 'ar'}, {'name': 'albany', 'country': 'au'}, {'name': 'illoqqortoormiut', 'country': 'gl'}, {'name': 'cabo san lucas', 'country': 'mx'}, {'name': 'penticton', 'country': 'ca'}, {'name': 'provideniya', 'country': 'ru'}, {'name': 'tuktoyaktuk', 'country': 'ca'}, {'name': 'samusu', 'country': 'ws'}, {'name': 'nelson bay', 'country': 'au'}, {'name': 'hilo', 'country': 'us'}, {'name': 'busselton', 'country': 'au'}, {'name': 'hurricane', 'country': 'us'}, {'name': 'samut songkhram', 'country': 'th'}, {'name': 'cairns', 'country': 'au'}, {'name': 'mataura', 'country': 'pf'}, {'name': 'port hardy', 'country': 'ca'}, {'name': 'cape town', 'country': 'za'}, {'name': 'saint-philippe', 'country': 're'}, {'name': 'castro', 'country': 'cl'}, {'name': 'fortuna', 'country': 'us'}, {'name': 'butaritari', 'country': 'ki'}, {'name': 'hithadhoo', 'country': 'mv'}, {'name': 'igarka', 'country': 'ru'}, {'name': 'san cristobal', 'country': 'ec'}, {'name': 'komsomolskiy', 'country': 'ru'}, {'name': 'vila velha', 'country': 'br'}, {'name': 'taolanaro', 'country': 'mg'}, {'name': 'straumen', 'country': 'no'}, {'name': 'padang', 'country': 'id'}, {'name': 'ormara', 'country': 'pk'}, {'name': 'nanortalik', 'country': 'gl'}, {'name': 'khatanga', 'country': 'ru'}, {'name': 'codrington', 'country': 'ag'}, {'name': 'mareeba', 'country': 'au'}, {'name': 'kampene', 'country': 'cd'}, {'name': 'ulladulla', 'country': 'au'}, {'name': 'alyangula', 'country': 'au'}, {'name': 'arraial do cabo', 'country': 'br'}, {'name': 'vaini', 'country': 'to'}, {'name': 'cotonou', 'country': 'bj'}, {'name': 'ankpa', 'country': 'ng'}, {'name': 'severo-kurilsk', 'country': 'ru'}, {'name': 'havelock', 'country': 'us'}, {'name': 'ciudad bolivar', 'country': 've'}, {'name': 'rikitea', 'country': 'pf'}, {'name': 'avarua', 'country': 'ck'}, {'name': 'port alfred', 'country': 'za'}, {'name': 'mar del plata', 'country': 'ar'}, {'name': 'hamilton', 'country': 'bm'}, {'name': 'pevek', 'country': 'ru'}, {'name': 'jamestown', 'country': 'sh'}, {'name': 'swinford', 'country': 'ie'}, {'name': 'bredasdorp', 'country': 'za'}, {'name': 'mahebourg', 'country': 'mu'}, {'name': 'pasni', 'country': 'pk'}, {'name': 'upernavik', 'country': 'gl'}, {'name': 'kamenka', 'country': 'ru'}, {'name': 'puerto escondido', 'country': 'mx'}, {'name': 'pascagoula', 'country': 'us'}, {'name': 'kaoma', 'country': 'zm'}, {'name': 'jizan', 'country': 'sa'}, {'name': 'ternate', 'country': 'id'}, {'name': 'adrar', 'country': 'dz'}, {'name': 'marystown', 'country': 'ca'}, {'name': 'palabuhanratu', 'country': 'id'}, {'name': 'bilma', 'country': 'ne'}, {'name': 'carnot', 'country': 'cf'}, {'name': 'pangnirtung', 'country': 'ca'}, {'name': 'hobart', 'country': 'au'}, {'name': 'barrow', 'country': 'us'}, {'name': 'belushya guba', 'country': 'ru'}, {'name': 'puerto ayora', 'country': 'ec'}, {'name': 'mvuma', 'country': 'zw'}, {'name': 'homer', 'country': 'us'}, {'name': 'chokurdakh', 'country': 'ru'}, {'name': 'qaanaaq', 'country': 'gl'}, {'name': 'lavrentiya', 'country': 'ru'}, {'name': 'new norfolk', 'country': 'au'}, {'name': 'stornoway', 'country': 'gb'}, {'name': 'portland', 'country': 'au'}, {'name': 'skagen', 'country': 'dk'}, {'name': 'camacha', 'country': 'pt'}, {'name': 'cockburn town', 'country': 'bs'}, {'name': 'narsaq', 'country': 'gl'}, {'name': 'longyan', 'country': 'cn'}, {'name': 'batemans bay', 'country': 'au'}, {'name': 'sola', 'country': 'vu'}, {'name': 'kavieng', 'country': 'pg'}, {'name': 'mehamn', 'country': 'no'}, {'name': 'almaznyy', 'country': 'ru'}, {'name': 'victoria', 'country': 'sc'}, {'name': 'melfort', 'country': 'ca'}, {'name': 'grindavik', 'country': 'is'}, {'name': 'hasaki', 'country': 'jp'}, {'name': 'constitucion', 'country': 'cl'}, {'name': 'atuona', 'country': 'pf'}, {'name': 'aloleng', 'country': 'ph'}, {'name': 'mys shmidta', 'country': 'ru'}, {'name': 'kodiak', 'country': 'us'}, {'name': 'talnakh', 'country': 'ru'}, {'name': 'masuguru', 'country': 'tz'}, {'name': 'barentsburg', 'country': 'sj'}, {'name': 'san pedro', 'country': 'ar'}, {'name': 'goderich', 'country': 'sl'}, {'name': 'esperance', 'country': 'au'}, {'name': 'hambantota', 'country': 'lk'}, {'name': 'cherskiy', 'country': 'ru'}, {'name': 'vilyuysk', 'country': 'ru'}, {'name': 'khonuu', 'country': 'ru'}, {'name': 'karratha', 'country': 'au'}, {'name': 'matagami', 'country': 'ca'}, {'name': 'pacific grove', 'country': 'us'}, {'name': 'chara', 'country': 'ru'}, {'name': 'klaksvik', 'country': 'fo'}, {'name': 'jacqueville', 'country': 'ci'}, {'name': 'oranjemund', 'country': 'na'}, {'name': 'chuy', 'country': 'uy'}, {'name': 'oakland', 'country': 'us'}, {'name': 'coquimbo', 'country': 'cl'}, {'name': 'aykhal', 'country': 'ru'}, {'name': 'blackburn', 'country': 'gb'}, {'name': 'kathmandu', 'country': 'np'}, {'name': 'saint george', 'country': 'bm'}, {'name': 'ribeira grande', 'country': 'pt'}, {'name': 'grand river south east', 'country': 'mu'}, {'name': 'carutapera', 'country': 'br'}, {'name': 'lorengau', 'country': 'pg'}, {'name': 'kapaa', 'country': 'us'}, {'name': 'oistins', 'country': 'bb'}, {'name': 'yellowknife', 'country': 'ca'}, {'name': 'darab', 'country': 'ir'}, {'name': 'dicabisagan', 'country': 'ph'}, {'name': 'kihei', 'country': 'us'}, {'name': 'indramayu', 'country': 'id'}, {'name': 'yerbogachen', 'country': 'ru'}, {'name': 'torbay', 'country': 'ca'}, {'name': 'rocha', 'country': 'uy'}, {'name': 'port keats', 'country': 'au'}, {'name': 'tumannyy', 'country': 'ru'}, {'name': 'ostrovnoy', 'country': 'ru'}, {'name': 'sinnamary', 'country': 'gf'}, {'name': 'lazaro cardenas', 'country': 'mx'}, {'name': 'buritizeiro', 'country': 'br'}, {'name': 'umm lajj', 'country': 'sa'}, {'name': 'bandarbeyla', 'country': 'so'}, {'name': 'akmene', 'country': 'lt'}, {'name': 'bambous virieux', 'country': 'mu'}, {'name': 'zhigansk', 'country': 'ru'}, {'name': 'yamada', 'country': 'jp'}, {'name': 'te anau', 'country': 'nz'}, {'name': 'cidreira', 'country': 'br'}, {'name': 'norman wells', 'country': 'ca'}, {'name': 'faanui', 'country': 'pf'}, {'name': 'qaqortoq', 'country': 'gl'}, {'name': 'poya', 'country': 'nc'}, {'name': 'salym', 'country': 'ru'}, {'name': 'ponta do sol', 'country': 'cv'}, {'name': 'toliary', 'country': 'mg'}, {'name': 'nizhneyansk', 'country': 'ru'}, {'name': 'pisco', 'country': 'pe'}, {'name': 'vostok', 'country': 'ru'}, {'name': 'rawson', 'country': 'ar'}, {'name': 'rungata', 'country': 'ki'}, {'name': 'fort abbas', 'country': 'pk'}, {'name': 'fairfield', 'country': 'us'}, {'name': 'tongliao', 'country': 'cn'}, {'name': 'leningradskiy', 'country': 'ru'}, {'name': 'muscat', 'country': 'om'}, {'name': 'la palma', 'country': 'pa'}, {'name': 'georgetown', 'country': 'sh'}, {'name': 'cantagallo', 'country': 'co'}, {'name': 'araguacu', 'country': 'br'}, {'name': 'vao', 'country': 'nc'}, {'name': 'xixiang', 'country': 'cn'}, {'name': 'paraiso', 'country': 'mx'}, {'name': 'general roca', 'country': 'ar'}, {'name': 'doha', 'country': 'kw'}, {'name': 'touros', 'country': 'br'}, {'name': 'longyearbyen', 'country': 'sj'}, {'name': 'ukiah', 'country': 'us'}, {'name': 'thompson', 'country': 'ca'}, {'name': 'palmer', 'country': 'us'}, {'name': 'nikolskoye', 'country': 'ru'}, {'name': 'arti', 'country': 'ru'}, {'name': 'tahe', 'country': 'cn'}, {'name': 'bafoulabe', 'country': 'ml'}, {'name': 'safaqis', 'country': 'tn'}, {'name': 'cockburn town', 'country': 'tc'}, {'name': 'naze', 'country': 'jp'}, {'name': 'kamenskoye', 'country': 'ru'}, {'name': 'sentyabrskiy', 'country': 'ru'}, {'name': 'taltal', 'country': 'cl'}, {'name': 'sigli', 'country': 'id'}, {'name': 'luderitz', 'country': 'na'}, {'name': 'jalu', 'country': 'ly'}, {'name': 'nautla', 'country': 'mx'}, {'name': 'chagda', 'country': 'ru'}, {'name': 'hornepayne', 'country': 'ca'}, {'name': 'amderma', 'country': 'ru'}, {'name': 'tambilil', 'country': 'ph'}, {'name': 'lolua', 'country': 'tv'}, {'name': 'east london', 'country': 'za'}, {'name': 'arbazh', 'country': 'ru'}, {'name': 'hunza', 'country': 'pk'}, {'name': 'inderborskiy', 'country': 'kz'}, {'name': 'eyl', 'country': 'so'}, {'name': 'sines', 'country': 'pt'}, {'name': 'lazarev', 'country': 'ru'}, {'name': 'kushiro', 'country': 'jp'}, {'name': 'kahului', 'country': 'us'}, {'name': 'saryshagan', 'country': 'kz'}, {'name': 'limoux', 'country': 'fr'}, {'name': 'dosso', 'country': 'ne'}, {'name': 'coulihaut', 'country': 'dm'}, {'name': 'lasa', 'country': 'cn'}, {'name': 'guerrero negro', 'country': 'mx'}, {'name': 'broken hill', 'country': 'au'}, {'name': 'punta arenas', 'country': 'cl'}, {'name': 'dikson', 'country': 'ru'}, {'name': 'dinahican', 'country': 'ph'}, {'name': 'mpanda', 'country': 'tz'}, {'name': 'moussoro', 'country': 'td'}, {'name': 'geraldton', 'country': 'au'}, {'name': 'mananjary', 'country': 'mg'}, {'name': 'koumac', 'country': 'nc'}, {'name': 'bloemfontein', 'country': 'za'}, {'name': 'salalah', 'country': 'om'}, {'name': 'balurghat', 'country': 'in'}, {'name': 'sangar', 'country': 'ru'}, {'name': 'kenai', 'country': 'us'}, {'name': 'yeppoon', 'country': 'au'}, {'name': 'kifri', 'country': 'iq'}, {'name': 'hovd', 'country': 'mn'}, {'name': 'jujuy', 'country': 'ar'}, {'name': 'avera', 'country': 'pf'}, {'name': 'champerico', 'country': 'gt'}, {'name': 'zhuhai', 'country': 'cn'}, {'name': 'cabedelo', 'country': 'br'}, {'name': 'port elizabeth', 'country': 'za'}, {'name': 'ilulissat', 'country': 'gl'}, {'name': 'cururupu', 'country': 'br'}, {'name': 'renqiu', 'country': 'cn'}, {'name': 'kyrksaeterora', 'country': 'no'}, {'name': 'saint-georges', 'country': 'gf'}, {'name': 'hurghada', 'country': 'eg'}, {'name': 'san francisco', 'country': 'ar'}, {'name': 'lishui', 'country': 'cn'}, {'name': 'acajutla', 'country': 'sv'}, {'name': 'xining', 'country': 'cn'}, {'name': 'necochea', 'country': 'ar'}, {'name': 'kisangani', 'country': 'cd'}, {'name': 'yarmouth', 'country': 'ca'}, {'name': 'tasiilaq', 'country': 'gl'}, {'name': 'prince rupert', 'country': 'ca'}, {'name': 'caravelas', 'country': 'br'}, {'name': 'hami', 'country': 'cn'}, {'name': 'iqaluit', 'country': 'ca'}, {'name': 'bethel', 'country': 'us'}, {'name': 'san patricio', 'country': 'mx'}, {'name': 'nouadhibou', 'country': 'mr'}, {'name': 'half moon bay', 'country': 'us'}, {'name': 'juba', 'country': 'sd'}, {'name': 'severobaykalsk', 'country': 'ru'}, {'name': 'malakal', 'country': 'sd'}, {'name': 'banjar', 'country': 'id'}, {'name': 'pangody', 'country': 'ru'}, {'name': 'helong', 'country': 'cn'}, {'name': 'taburao', 'country': 'ki'}, {'name': 'maragogi', 'country': 'br'}, {'name': 'marzuq', 'country': 'ly'}, {'name': 'biak', 'country': 'id'}, {'name': 'lac-megantic', 'country': 'ca'}, {'name': 'leshan', 'country': 'cn'}, {'name': 'urengoy', 'country': 'ru'}, {'name': 'george town', 'country': 'ky'}, {'name': 'kathu', 'country': 'th'}, {'name': 'cabatuan', 'country': 'ph'}, {'name': 'yumen', 'country': 'cn'}, {'name': 'lakes entrance', 'country': 'au'}, {'name': 'dingle', 'country': 'ie'}, {'name': 'attawapiskat', 'country': 'ca'}, {'name': 'fort-shevchenko', 'country': 'kz'}, {'name': 'pontianak', 'country': 'id'}, {'name': 'broome', 'country': 'au'}, {'name': 'lukovetskiy', 'country': 'ru'}, {'name': 'airai', 'country': 'pw'}, {'name': 'carnarvon', 'country': 'au'}, {'name': 'belyy yar', 'country': 'ru'}, {'name': 'puri', 'country': 'in'}, {'name': 'edeia', 'country': 'br'}, {'name': 'barawe', 'country': 'so'}, {'name': 'petropavlovsk-kamchatskiy', 'country': 'ru'}, {'name': 'sechura', 'country': 'pe'}, {'name': 'fairbanks', 'country': 'us'}, {'name': 'merritt', 'country': 'ca'}, {'name': 'otane', 'country': 'nz'}, {'name': 'saldanha', 'country': 'za'}, {'name': 'gat', 'country': 'ly'}, {'name': 'bonavista', 'country': 'ca'}, {'name': 'vanavara', 'country': 'ru'}, {'name': 'sibu', 'country': 'my'}, {'name': 'sterling', 'country': 'us'}, {'name': 'batagay', 'country': 'ru'}, {'name': 'gazanjyk', 'country': 'tm'}, {'name': 'marcona', 'country': 'pe'}, {'name': 'goure', 'country': 'ne'}, {'name': 'uniontown', 'country': 'us'}, {'name': 'laranjeiras do sul', 'country': 'br'}, {'name': 'valdivia', 'country': 'cl'}, {'name': 'celestun', 'country': 'mx'}, {'name': 'kruisfontein', 'country': 'za'}, {'name': 'akure', 'country': 'ng'}, {'name': 'maceio', 'country': 'br'}, {'name': 'clearlake', 'country': 'us'}, {'name': 'zaraza', 'country': 've'}, {'name': 'lagoa', 'country': 'pt'}, {'name': 'rawannawi', 'country': 'ki'}, {'name': 'los llanos de aridane', 'country': 'es'}, {'name': 'beringovskiy', 'country': 'ru'}, {'name': 'marsabit', 'country': 'ke'}, {'name': 'camopi', 'country': 'gf'}, {'name': 'vila franca do campo', 'country': 'pt'}, {'name': 'surat thani', 'country': 'th'}, {'name': 'souillac', 'country': 'mu'}, {'name': 'boa vista', 'country': 'br'}, {'name': 'karamea', 'country': 'nz'}, {'name': 'ubeda', 'country': 'es'}, {'name': 'portobelo', 'country': 'pa'}, {'name': 'hinton', 'country': 'ca'}, {'name': 'sioux lookout', 'country': 'ca'}, {'name': 'kousseri', 'country': 'cm'}, {'name': 'inhambane', 'country': 'mz'}, {'name': 'zabid', 'country': 'ye'}, {'name': 'pljevlja', 'country': 'me'}, {'name': 'wajir', 'country': 'ke'}, {'name': 'puerto del rosario', 'country': 'es'}, {'name': 'bilibino', 'country': 'ru'}, {'name': 'ribas do rio pardo', 'country': 'br'}, {'name': 'kudahuvadhoo', 'country': 'mv'}, {'name': 'ranong', 'country': 'th'}, {'name': 'bjornevatn', 'country': 'no'}, {'name': 'saint anthony', 'country': 'ca'}, {'name': 'rivera', 'country': 'uy'}, {'name': 'abai', 'country': 'py'}, {'name': 'seoul', 'country': 'kr'}, {'name': 'taylor', 'country': 'us'}, {'name': 'sinkat', 'country': 'sd'}, {'name': 'muros', 'country': 'es'}, {'name': 'cayenne', 'country': 'gf'}, {'name': 'fria', 'country': 'gn'}, {'name': 'terrace bay', 'country': 'ca'}, {'name': 'margate', 'country': 'za'}, {'name': 'kanye', 'country': 'bw'}, {'name': 'allapalli', 'country': 'in'}, {'name': 'haines junction', 'country': 'ca'}, {'name': 'krusevac', 'country': 'rs'}, {'name': 'baiao', 'country': 'br'}, {'name': 'limoges', 'country': 'fr'}, {'name': 'porto walter', 'country': 'br'}, {'name': 'ancud', 'country': 'cl'}, {'name': 'mae hong son', 'country': 'th'}, {'name': 'henties bay', 'country': 'na'}, {'name': 'eureka', 'country': 'us'}, {'name': 'kaitangata', 'country': 'nz'}, {'name': 'grand centre', 'country': 'ca'}, {'name': 'shitanjing', 'country': 'cn'}, {'name': 'grootfontein', 'country': 'na'}, {'name': 'baykit', 'country': 'ru'}, {'name': 'shenjiamen', 'country': 'cn'}, {'name': 'grand forks', 'country': 'ca'}, {'name': 'tiksi', 'country': 'ru'}, {'name': 'cartagena', 'country': 'ph'}, {'name': 'qasigiannguit', 'country': 'gl'}, {'name': 'basco', 'country': 'ph'}, {'name': 'cameta', 'country': 'br'}, {'name': 'bitung', 'country': 'id'}, {'name': 'utiroa', 'country': 'ki'}, {'name': 'namibe', 'country': 'ao'}, {'name': 'la libertad', 'country': 'gt'}, {'name': 'tonantins', 'country': 'br'}, {'name': 'jaisinghnagar', 'country': 'in'}, {'name': 'tapaua', 'country': 'br'}, {'name': 'ponta delgada', 'country': 'pt'}, {'name': 'petukhovo', 'country': 'ru'}, {'name': 'promissao', 'country': 'br'}, {'name': 'oxford', 'country': 'us'}, {'name': 'comodoro rivadavia', 'country': 'ar'}, {'name': 'maldonado', 'country': 'uy'}, {'name': 'matara', 'country': 'lk'}, {'name': 'yakeshi', 'country': 'cn'}, {'name': 'okhotsk', 'country': 'ru'}, {'name': 'takestan', 'country': 'ir'}, {'name': 'vestmanna', 'country': 'fo'}, {'name': 'olinda', 'country': 'br'}, {'name': 'najran', 'country': 'sa'}, {'name': 'husavik', 'country': 'is'}, {'name': 'monroe', 'country': 'us'}, {'name': 'grand gaube', 'country': 'mu'}, {'name': 'fort morgan', 'country': 'us'}, {'name': 'moramanga', 'country': 'mg'}, {'name': 'abu samrah', 'country': 'qa'}, {'name': 'sitka', 'country': 'us'}, {'name': 'solnechnyy', 'country': 'ru'}, {'name': 'maniitsoq', 'country': 'gl'}, {'name': 'natal', 'country': 'br'}, {'name': 'leh', 'country': 'in'}, {'name': 'guayaramerin', 'country': 'bo'}, {'name': 'qui nhon', 'country': 'vn'}, {'name': 'skalistyy', 'country': 'ru'}, {'name': 'mandan', 'country': 'us'}, {'name': 'nome', 'country': 'us'}, {'name': 'morondava', 'country': 'mg'}, {'name': 'auki', 'country': 'sb'}, {'name': 'sarkand', 'country': 'kz'}, {'name': 'kincardine', 'country': 'ca'}, {'name': 'copiapo', 'country': 'cl'}, {'name': 'stendal', 'country': 'de'}, {'name': 'bonthe', 'country': 'sl'}, {'name': 'sanmenxia', 'country': 'cn'}, {'name': 'neiafu', 'country': 'to'}, {'name': 'marienburg', 'country': 'sr'}, {'name': 'sao joao da barra', 'country': 'br'}, {'name': 'samarai', 'country': 'pg'}, {'name': 'duz', 'country': 'tn'}, {'name': 'barcelona', 'country': 'ph'}, {'name': 'ust-barguzin', 'country': 'ru'}, {'name': 'aksarka', 'country': 'ru'}, {'name': 'rahimatpur', 'country': 'in'}, {'name': 'sur', 'country': 'om'}, {'name': 'berdigestyakh', 'country': 'ru'}, {'name': 'tomatlan', 'country': 'mx'}, {'name': 'wahpeton', 'country': 'us'}, {'name': 'kidal', 'country': 'ml'}, {'name': 'alexandria', 'country': 'eg'}, {'name': 'vestmannaeyjar', 'country': 'is'}, {'name': 'erenhot', 'country': 'cn'}, {'name': 'kukes', 'country': 'al'}, {'name': 'pecos', 'country': 'us'}, {'name': 'znin', 'country': 'pl'}, {'name': 'snezhnogorsk', 'country': 'ru'}, {'name': 'andenes', 'country': 'no'}, {'name': 'jardim', 'country': 'br'}, {'name': 'yichang', 'country': 'cn'}, {'name': 'tatvan', 'country': 'tr'}, {'name': 'paracatu', 'country': 'br'}, {'name': 'asau', 'country': 'tv'}, {'name': 'tazovskiy', 'country': 'ru'}, {'name': 'villa union', 'country': 'mx'}, {'name': 'jabinyanah', 'country': 'tn'}, {'name': 'kristiinankaupunki', 'country': 'fi'}, {'name': 'port macquarie', 'country': 'au'}, {'name': 'caruray', 'country': 'ph'}, {'name': 'viligili', 'country': 'mv'}, {'name': 'vanimo', 'country': 'pg'}, {'name': 'chulman', 'country': 'ru'}, {'name': 'lebu', 'country': 'cl'}, {'name': 'turukhansk', 'country': 'ru'}, {'name': 'shetpe', 'country': 'kz'}, {'name': 'eydhafushi', 'country': 'mv'}, {'name': 'constitucion', 'country': 'mx'}, {'name': 'skibbereen', 'country': 'ie'}, {'name': 'dwarka', 'country': 'in'}, {'name': 'hofn', 'country': 'is'}, {'name': 'sao filipe', 'country': 'cv'}, {'name': 'anshun', 'country': 'cn'}, {'name': 'bay roberts', 'country': 'ca'}, {'name': 'portmore', 'country': 'jm'}, {'name': 'richards bay', 'country': 'za'}, {'name': 'oksfjord', 'country': 'no'}, {'name': 'mashhad', 'country': 'ir'}, {'name': 'cukai', 'country': 'my'}, {'name': 'tetouan', 'country': 'ma'}, {'name': 'san pedro carcha', 'country': 'gt'}, {'name': 'iskateley', 'country': 'ru'}, {'name': 'maningrida', 'country': 'au'}, {'name': 'auriflama', 'country': 'br'}, {'name': 'zvolen', 'country': 'sk'}, {'name': 'wajima', 'country': 'jp'}, {'name': 'shimoda', 'country': 'jp'}, {'name': 'nyurba', 'country': 'ru'}, {'name': 'temaraia', 'country': 'ki'}, {'name': 'higuey', 'country': 'do'}, {'name': 'honiara', 'country': 'sb'}, {'name': 'cabra', 'country': 'ph'}, {'name': 'miragoane', 'country': 'ht'}, {'name': 'latung', 'country': 'ph'}, {'name': 'umzimvubu', 'country': 'za'}, {'name': 'atar', 'country': 'mr'}, {'name': 'bambanglipuro', 'country': 'id'}, {'name': 'isiro', 'country': 'cd'}, {'name': 'wanning', 'country': 'cn'}, {'name': 'pampa', 'country': 'us'}, {'name': 'evensk', 'country': 'ru'}, {'name': 'wettingen', 'country': 'ch'}, {'name': 'flinders', 'country': 'au'}, {'name': 'korla', 'country': 'cn'}, {'name': 'sura', 'country': 'ru'}, {'name': 'halalo', 'country': 'wf'}, {'name': 'itarema', 'country': 'br'}, {'name': 'ruthin', 'country': 'gb'}, {'name': 'chabahar', 'country': 'ir'}, {'name': 'sitia', 'country': 'gr'}, {'name': 'aracaju', 'country': 'br'}, {'name': 'isangel', 'country': 'vu'}, {'name': 'hualmay', 'country': 'pe'}, {'name': 'fethiye', 'country': 'tr'}, {'name': 'dunedin', 'country': 'nz'}, {'name': 'itoman', 'country': 'jp'}, {'name': 'bathsheba', 'country': 'bb'}, {'name': 'callaway', 'country': 'us'}, {'name': 'warqla', 'country': 'dz'}, {'name': 'maridi', 'country': 'sd'}, {'name': 'mont-de-marsan', 'country': 'fr'}, {'name': 'porto torres', 'country': 'it'}, {'name': 'coihaique', 'country': 'cl'}, {'name': 'alberton', 'country': 'ca'}, {'name': 'kadykchan', 'country': 'ru'}, {'name': 'saint pete beach', 'country': 'us'}, {'name': 'severo-yeniseyskiy', 'country': 'ru'}, {'name': 'labuhan', 'country': 'id'}, {'name': 'oranjestad', 'country': 'aw'}, {'name': 'manicore', 'country': 'br'}, {'name': 'mogzon', 'country': 'ru'}, {'name': 'luanda', 'country': 'ao'}, {'name': 'montrose', 'country': 'us'}, {'name': 'galle', 'country': 'lk'}, {'name': 'ahipara', 'country': 'nz'}, {'name': 'turkmenabat', 'country': 'tm'}, {'name': 'banyo', 'country': 'cm'}, {'name': 'lompoc', 'country': 'us'}, {'name': 'macaboboni', 'country': 'ph'}, {'name': 'camalu', 'country': 'mx'}, {'name': 'baiyin', 'country': 'cn'}, {'name': 'havre-saint-pierre', 'country': 'ca'}, {'name': 'takoradi', 'country': 'gh'}, {'name': 'gorin', 'country': 'ru'}, {'name': 'kitui', 'country': 'ke'}, {'name': 'terney', 'country': 'ru'}, {'name': 'katsuura', 'country': 'jp'}, {'name': 'luzhou', 'country': 'cn'}, {'name': 'kourou', 'country': 'gf'}, {'name': 'chapais', 'country': 'ca'}, {'name': 'port blair', 'country': 'in'}, {'name': 'ust-karsk', 'country': 'ru'}, {'name': 'aklavik', 'country': 'ca'}, {'name': 'rio gallegos', 'country': 'ar'}, {'name': 'vardo', 'country': 'no'}, {'name': 'tevaitoa', 'country': 'pf'}, {'name': 'paamiut', 'country': 'gl'}, {'name': 'chiredzi', 'country': 'zw'}, {'name': 'charlestown', 'country': 'kn'}, {'name': 'shaunavon', 'country': 'ca'}, {'name': 'barwadih', 'country': 'in'}, {'name': 'keita', 'country': 'ne'}, {'name': 'acarau', 'country': 'br'}, {'name': 'pristina', 'country': 'rs'}, {'name': 'gizo', 'country': 'sb'}, {'name': 'bansdih', 'country': 'in'}, {'name': 'seymchan', 'country': 'ru'}, {'name': 'astana', 'country': 'kz'}, {'name': 'upata', 'country': 've'}, {'name': 'nchelenge', 'country': 'zm'}, {'name': 'porto nacional', 'country': 'br'}, {'name': 'buba', 'country': 'gw'}, {'name': 'tuatapere', 'country': 'nz'}, {'name': 'gayny', 'country': 'ru'}, {'name': 'peleduy', 'country': 'ru'}, {'name': 'culpeper', 'country': 'us'}, {'name': 'yanam', 'country': 'in'}, {'name': 'byron bay', 'country': 'au'}, {'name': 'monte aprazivel', 'country': 'br'}, {'name': 'nabire', 'country': 'id'}, {'name': 'pemangkat', 'country': 'id'}, {'name': 'anloga', 'country': 'gh'}, {'name': 'grande prairie', 'country': 'ca'}, {'name': 'sibolga', 'country': 'id'}, {'name': 'san jose', 'country': 'gt'}, {'name': 'yafran', 'country': 'ly'}, {'name': 'nguiu', 'country': 'au'}, {'name': 'lyuban', 'country': 'by'}, {'name': 'bakchar', 'country': 'ru'}, {'name': 'russellville', 'country': 'us'}, {'name': 'nyandoma', 'country': 'ru'}, {'name': 'sesheke', 'country': 'zm'}, {'name': 'lewistown', 'country': 'us'}, {'name': 'chupa', 'country': 'ru'}, {'name': 'alotau', 'country': 'pg'}, {'name': 'shadrinsk', 'country': 'ru'}, {'name': 'kaduqli', 'country': 'sd'}, {'name': 'havoysund', 'country': 'no'}, {'name': 'mahanoro', 'country': 'mg'}, {'name': 'kentau', 'country': 'kz'}, {'name': 'sale', 'country': 'au'}, {'name': 'santiago del estero', 'country': 'ar'}, {'name': 'cheuskiny', 'country': 'ru'}, {'name': 'anar darreh', 'country': 'af'}, {'name': 'banff', 'country': 'ca'}, {'name': 'dauriya', 'country': 'ru'}, {'name': 'zhicheng', 'country': 'cn'}, {'name': 'reconquista', 'country': 'ar'}, {'name': 'san andres', 'country': 'co'}, {'name': 'vitim', 'country': 'ru'}, {'name': 'lamu', 'country': 'ke'}]\n"
     ]
    }
   ],
   "source": [
    "print(cities)"
   ]
  },
  {
   "cell_type": "markdown",
   "metadata": {},
   "source": [
    "### Perform API Calls\n",
    "* Perform a weather check on each city using a series of successive API calls.\n",
    "* Include a print log of each city as it'sbeing processed (with the city number and city name).\n"
   ]
  },
  {
   "cell_type": "code",
   "execution_count": null,
   "metadata": {
    "scrolled": false
   },
   "outputs": [],
   "source": []
  },
  {
   "cell_type": "markdown",
   "metadata": {},
   "source": [
    "### Convert Raw Data to DataFrame\n",
    "* Export the city data into a .csv.\n",
    "* Display the DataFrame"
   ]
  },
  {
   "cell_type": "code",
   "execution_count": null,
   "metadata": {},
   "outputs": [],
   "source": []
  },
  {
   "cell_type": "markdown",
   "metadata": {},
   "source": [
    "## Inspect the data and remove the cities where the humidity > 100%.\n",
    "----\n",
    "Skip this step if there are no cities that have humidity > 100%. "
   ]
  },
  {
   "cell_type": "code",
   "execution_count": null,
   "metadata": {},
   "outputs": [],
   "source": []
  },
  {
   "cell_type": "markdown",
   "metadata": {},
   "source": [
    "## Plotting the Data\n",
    "* Use proper labeling of the plots using plot titles (including date of analysis) and axes labels.\n",
    "* Save the plotted figures as .pngs."
   ]
  },
  {
   "cell_type": "code",
   "execution_count": null,
   "metadata": {},
   "outputs": [],
   "source": []
  },
  {
   "cell_type": "markdown",
   "metadata": {},
   "source": [
    "## Latitude vs. Temperature Plot"
   ]
  },
  {
   "cell_type": "code",
   "execution_count": null,
   "metadata": {
    "scrolled": true
   },
   "outputs": [],
   "source": []
  },
  {
   "cell_type": "markdown",
   "metadata": {},
   "source": [
    "## Latitude vs. Humidity Plot"
   ]
  },
  {
   "cell_type": "code",
   "execution_count": null,
   "metadata": {},
   "outputs": [],
   "source": []
  },
  {
   "cell_type": "markdown",
   "metadata": {},
   "source": [
    "## Latitude vs. Cloudiness Plot"
   ]
  },
  {
   "cell_type": "code",
   "execution_count": null,
   "metadata": {},
   "outputs": [],
   "source": []
  },
  {
   "cell_type": "markdown",
   "metadata": {},
   "source": [
    "## Latitude vs. Wind Speed Plot"
   ]
  },
  {
   "cell_type": "code",
   "execution_count": null,
   "metadata": {},
   "outputs": [],
   "source": []
  },
  {
   "cell_type": "markdown",
   "metadata": {},
   "source": [
    "## Linear Regression"
   ]
  },
  {
   "cell_type": "code",
   "execution_count": null,
   "metadata": {},
   "outputs": [],
   "source": []
  },
  {
   "cell_type": "markdown",
   "metadata": {},
   "source": [
    "####  Northern Hemisphere - Max Temp vs. Latitude Linear Regression"
   ]
  },
  {
   "cell_type": "code",
   "execution_count": null,
   "metadata": {},
   "outputs": [],
   "source": []
  },
  {
   "cell_type": "markdown",
   "metadata": {},
   "source": [
    "####  Southern Hemisphere - Max Temp vs. Latitude Linear Regression"
   ]
  },
  {
   "cell_type": "code",
   "execution_count": null,
   "metadata": {},
   "outputs": [],
   "source": []
  },
  {
   "cell_type": "markdown",
   "metadata": {},
   "source": [
    "####  Northern Hemisphere - Humidity (%) vs. Latitude Linear Regression"
   ]
  },
  {
   "cell_type": "code",
   "execution_count": null,
   "metadata": {},
   "outputs": [],
   "source": []
  },
  {
   "cell_type": "markdown",
   "metadata": {},
   "source": [
    "####  Southern Hemisphere - Humidity (%) vs. Latitude Linear Regression"
   ]
  },
  {
   "cell_type": "code",
   "execution_count": null,
   "metadata": {},
   "outputs": [],
   "source": []
  },
  {
   "cell_type": "markdown",
   "metadata": {},
   "source": [
    "####  Northern Hemisphere - Cloudiness (%) vs. Latitude Linear Regression"
   ]
  },
  {
   "cell_type": "code",
   "execution_count": null,
   "metadata": {},
   "outputs": [],
   "source": []
  },
  {
   "cell_type": "markdown",
   "metadata": {},
   "source": [
    "####  Southern Hemisphere - Cloudiness (%) vs. Latitude Linear Regression"
   ]
  },
  {
   "cell_type": "code",
   "execution_count": null,
   "metadata": {},
   "outputs": [],
   "source": []
  },
  {
   "cell_type": "markdown",
   "metadata": {},
   "source": [
    "####  Northern Hemisphere - Wind Speed (mph) vs. Latitude Linear Regression"
   ]
  },
  {
   "cell_type": "code",
   "execution_count": null,
   "metadata": {},
   "outputs": [],
   "source": []
  },
  {
   "cell_type": "markdown",
   "metadata": {},
   "source": [
    "####  Southern Hemisphere - Wind Speed (mph) vs. Latitude Linear Regression"
   ]
  },
  {
   "cell_type": "code",
   "execution_count": null,
   "metadata": {},
   "outputs": [],
   "source": []
  },
  {
   "cell_type": "code",
   "execution_count": null,
   "metadata": {},
   "outputs": [],
   "source": []
  },
  {
   "cell_type": "code",
   "execution_count": null,
   "metadata": {},
   "outputs": [],
   "source": []
  },
  {
   "cell_type": "code",
   "execution_count": null,
   "metadata": {},
   "outputs": [],
   "source": []
  }
 ],
 "metadata": {
  "anaconda-cloud": {},
  "kernel_info": {
   "name": "python3"
  },
  "kernelspec": {
   "display_name": "Python [conda env:PythonData]",
   "language": "python",
   "name": "conda-env-PythonData-py"
  },
  "language_info": {
   "codemirror_mode": {
    "name": "ipython",
    "version": 3
   },
   "file_extension": ".py",
   "mimetype": "text/x-python",
   "name": "python",
   "nbconvert_exporter": "python",
   "pygments_lexer": "ipython3",
   "version": "3.6.10"
  },
  "latex_envs": {
   "LaTeX_envs_menu_present": true,
   "autoclose": false,
   "autocomplete": true,
   "bibliofile": "biblio.bib",
   "cite_by": "apalike",
   "current_citInitial": 1,
   "eqLabelWithNumbers": true,
   "eqNumInitial": 1,
   "hotkeys": {
    "equation": "Ctrl-E",
    "itemize": "Ctrl-I"
   },
   "labels_anchors": false,
   "latex_user_defs": false,
   "report_style_numbering": false,
   "user_envs_cfg": false
  },
  "nteract": {
   "version": "0.12.3"
  }
 },
 "nbformat": 4,
 "nbformat_minor": 2
}
