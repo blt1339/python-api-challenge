{
 "cells": [
  {
   "cell_type": "markdown",
   "metadata": {},
   "source": [
    "# WeatherPy\n",
    "----\n",
    "\n",
    "#### Note\n",
    "* Instructions have been included for each segment. You do not have to follow them exactly, but they are included to help you think through the steps."
   ]
  },
  {
   "cell_type": "code",
   "execution_count": 1,
   "metadata": {
    "scrolled": true
   },
   "outputs": [],
   "source": [
    "# Dependencies\n",
    "import pandas as pd\n",
    "import matplotlib.pyplot as plt\n",
    "import numpy as np\n",
    "import requests\n",
    "import json\n",
    "import csv\n",
    "import datetime\n",
    "import time\n",
    "from citipy import citipy\n",
    "import random\n",
    "from scipy.stats import linregress\n",
    "\n",
    "# Google API Key\n",
    "from api_keys import g_key"
   ]
  },
  {
   "cell_type": "markdown",
   "metadata": {},
   "source": [
    "## Generate Cities List"
   ]
  },
  {
   "cell_type": "code",
   "execution_count": 2,
   "metadata": {},
   "outputs": [],
   "source": [
    "# Setup the ranges for latitude and longitude\n",
    "latitude_range = (-90,90)\n",
    "longatude_range = (-180,180)\n",
    "\n",
    "# Create variables for data\n",
    "cities = []\n",
    "\n",
    "no_cities = 2000\n",
    "for cntr in range(no_cities):\n",
    "    latitude = random.uniform(latitude_range[0],latitude_range[1])\n",
    "    longitude = random.uniform(longatude_range[0],longatude_range[1])\n",
    "    \n",
    "    # If we have chosen a latitude of 0 then we don't want to use that\n",
    "    # one\n",
    "    if latitude != 0:\n",
    "        city = citipy.nearest_city(latitude,longitude)\n",
    "        city_name = city.city_name\n",
    "        city_country = city.country_code\n",
    "        if not any(c['name'] == city_name and c['country'] == city_country for c in cities):\n",
    "            city_dict = {'name': city_name,'country': city_country}\n",
    "            cities.append(city_dict)"
   ]
  },
  {
   "cell_type": "code",
   "execution_count": 3,
   "metadata": {},
   "outputs": [
    {
     "name": "stdout",
     "output_type": "stream",
     "text": [
      "[{'name': 'nemuro', 'country': 'jp'}, {'name': 'jamestown', 'country': 'sh'}, {'name': 'chuy', 'country': 'uy'}, {'name': 'new norfolk', 'country': 'au'}, {'name': 'yellowknife', 'country': 'ca'}, {'name': 'mantua', 'country': 'cu'}, {'name': 'hermanus', 'country': 'za'}, {'name': 'illoqqortoormiut', 'country': 'gl'}, {'name': 'nyuksenitsa', 'country': 'ru'}, {'name': 'lompoc', 'country': 'us'}, {'name': 'port elizabeth', 'country': 'za'}, {'name': 'ouegoa', 'country': 'nc'}, {'name': 'mataura', 'country': 'pf'}, {'name': 'sarangani', 'country': 'ph'}, {'name': 'bambous virieux', 'country': 'mu'}, {'name': 'sur', 'country': 'om'}, {'name': 'albany', 'country': 'au'}, {'name': 'taolanaro', 'country': 'mg'}, {'name': 'sitka', 'country': 'us'}, {'name': 'karamay', 'country': 'cn'}, {'name': 'rikitea', 'country': 'pf'}, {'name': 'meulaboh', 'country': 'id'}, {'name': 'lebu', 'country': 'cl'}, {'name': 'port-de-bouc', 'country': 'fr'}, {'name': 'benguela', 'country': 'ao'}, {'name': 'varadero', 'country': 'cu'}, {'name': 'saldanha', 'country': 'za'}, {'name': 'djougou', 'country': 'bj'}, {'name': 'sola', 'country': 'vu'}, {'name': 'bubaque', 'country': 'gw'}, {'name': 'punta arenas', 'country': 'cl'}, {'name': 'saint-augustin', 'country': 'ca'}, {'name': 'puerto ayora', 'country': 'ec'}, {'name': 'urumqi', 'country': 'cn'}, {'name': 'arraial do cabo', 'country': 'br'}, {'name': 'poronaysk', 'country': 'ru'}, {'name': 'east london', 'country': 'za'}, {'name': 'busselton', 'country': 'au'}, {'name': 'saskylakh', 'country': 'ru'}, {'name': 'kapaa', 'country': 'us'}, {'name': 'salinas', 'country': 'ec'}, {'name': 'seoul', 'country': 'kr'}, {'name': 'tuxpan', 'country': 'mx'}, {'name': 'hobart', 'country': 'au'}, {'name': 'san cristobal', 'country': 'ec'}, {'name': 'ponta do sol', 'country': 'cv'}, {'name': 'carnarvon', 'country': 'au'}, {'name': 'maragogi', 'country': 'br'}, {'name': 'sorland', 'country': 'no'}, {'name': 'limulunga', 'country': 'zm'}, {'name': 'bredasdorp', 'country': 'za'}, {'name': 'litoral del san juan', 'country': 'co'}, {'name': 'fergus falls', 'country': 'us'}, {'name': 'geraldton', 'country': 'au'}, {'name': 'kavieng', 'country': 'pg'}, {'name': 'kamaishi', 'country': 'jp'}, {'name': 'shingu', 'country': 'jp'}, {'name': 'guerrero negro', 'country': 'mx'}, {'name': 'pemangkat', 'country': 'id'}, {'name': 'upernavik', 'country': 'gl'}, {'name': 'cherskiy', 'country': 'ru'}, {'name': 'itarema', 'country': 'br'}, {'name': 'bluff', 'country': 'nz'}, {'name': 'inongo', 'country': 'cd'}, {'name': 'constitucion', 'country': 'mx'}, {'name': 'baglung', 'country': 'np'}, {'name': 'galesburg', 'country': 'us'}, {'name': 'ternate', 'country': 'id'}, {'name': 'beausejour', 'country': 'ca'}, {'name': 'fernandez', 'country': 'mx'}, {'name': 'atar', 'country': 'mr'}, {'name': 'butaritari', 'country': 'ki'}, {'name': 'show low', 'country': 'us'}, {'name': 'antofagasta', 'country': 'cl'}, {'name': 'mahebourg', 'country': 'mu'}, {'name': 'sioux lookout', 'country': 'ca'}, {'name': 'georgetown', 'country': 'sh'}, {'name': 'vaini', 'country': 'to'}, {'name': 'tezu', 'country': 'in'}, {'name': 'kenai', 'country': 'us'}, {'name': 'zhangye', 'country': 'cn'}, {'name': 'atuona', 'country': 'pf'}, {'name': 'pozo colorado', 'country': 'py'}, {'name': 'constantine', 'country': 'dz'}, {'name': 'roebourne', 'country': 'au'}, {'name': 'jomalig', 'country': 'ph'}, {'name': 'banda aceh', 'country': 'id'}, {'name': 'tuatapere', 'country': 'nz'}, {'name': 'qaanaaq', 'country': 'gl'}, {'name': 'bandarbeyla', 'country': 'so'}, {'name': 'asau', 'country': 'tv'}, {'name': 'dunedin', 'country': 'nz'}, {'name': 'belushya guba', 'country': 'ru'}, {'name': 'kodiak', 'country': 'us'}, {'name': 'erenhot', 'country': 'cn'}, {'name': 'togur', 'country': 'ru'}, {'name': 'skibbereen', 'country': 'ie'}, {'name': 'chapais', 'country': 'ca'}, {'name': 'tabas', 'country': 'ir'}, {'name': 'marsciano', 'country': 'it'}, {'name': 'nome', 'country': 'us'}, {'name': 'ushuaia', 'country': 'ar'}, {'name': 'catamarca', 'country': 'ar'}, {'name': 'vardo', 'country': 'no'}, {'name': 'port blair', 'country': 'in'}, {'name': 'nanortalik', 'country': 'gl'}, {'name': 'adrar', 'country': 'dz'}, {'name': 'castro', 'country': 'cl'}, {'name': 'mar del plata', 'country': 'ar'}, {'name': 'flin flon', 'country': 'ca'}, {'name': 'cidreira', 'country': 'br'}, {'name': 'khatanga', 'country': 'ru'}, {'name': 'hithadhoo', 'country': 'mv'}, {'name': 'batemans bay', 'country': 'au'}, {'name': 'ancud', 'country': 'cl'}, {'name': 'tuktoyaktuk', 'country': 'ca'}, {'name': 'charyshskoye', 'country': 'ru'}, {'name': 'bayir', 'country': 'jo'}, {'name': 'camopi', 'country': 'gf'}, {'name': 'sentyabrskiy', 'country': 'ru'}, {'name': 'greytown', 'country': 'za'}, {'name': 'nakusp', 'country': 'ca'}, {'name': 'sangar', 'country': 'ru'}, {'name': 'zhezkazgan', 'country': 'kz'}, {'name': 'cape town', 'country': 'za'}, {'name': 'atambua', 'country': 'id'}, {'name': 'manali', 'country': 'in'}, {'name': 'castleford', 'country': 'gb'}, {'name': 'vostok', 'country': 'ru'}, {'name': 'provideniya', 'country': 'ru'}, {'name': 'iqaluit', 'country': 'ca'}, {'name': 'port moresby', 'country': 'pg'}, {'name': 'aquiraz', 'country': 'br'}, {'name': 'kangaatsiaq', 'country': 'gl'}, {'name': 'songjianghe', 'country': 'cn'}, {'name': 'barrow', 'country': 'us'}, {'name': 'shache', 'country': 'cn'}, {'name': 'kherson', 'country': 'ua'}, {'name': 'hami', 'country': 'cn'}, {'name': 'divnogorsk', 'country': 'ru'}, {'name': 'athabasca', 'country': 'ca'}, {'name': 'attawapiskat', 'country': 'ca'}, {'name': 'hattiesburg', 'country': 'us'}, {'name': 'severo-kurilsk', 'country': 'ru'}, {'name': 'port alfred', 'country': 'za'}, {'name': 'melfort', 'country': 'ca'}, {'name': 'igarape-miri', 'country': 'br'}, {'name': 'bethel', 'country': 'us'}, {'name': 'harper', 'country': 'lr'}, {'name': 'istisu', 'country': 'az'}, {'name': 'tsihombe', 'country': 'mg'}, {'name': 'felidhoo', 'country': 'mv'}, {'name': 'barentsburg', 'country': 'sj'}, {'name': 'saint george', 'country': 'bm'}, {'name': 'luderitz', 'country': 'na'}, {'name': 'fortuna', 'country': 'us'}, {'name': 'ostrovnoy', 'country': 'ru'}, {'name': 'hilo', 'country': 'us'}, {'name': 'pafos', 'country': 'cy'}, {'name': 'hamilton', 'country': 'bm'}, {'name': 'sena madureira', 'country': 'br'}, {'name': 'thompson', 'country': 'ca'}, {'name': 'chiconcuac', 'country': 'mx'}, {'name': 'amderma', 'country': 'ru'}, {'name': 'usolye', 'country': 'ru'}, {'name': 'gweta', 'country': 'bw'}, {'name': 'dingle', 'country': 'ie'}, {'name': 'miri', 'country': 'my'}, {'name': 'rio gallegos', 'country': 'ar'}, {'name': 'victoria', 'country': 'sc'}, {'name': 'luang prabang', 'country': 'la'}, {'name': 'maniitsoq', 'country': 'gl'}, {'name': 'bolungarvik', 'country': 'is'}, {'name': 'samana', 'country': 'do'}, {'name': 'pevek', 'country': 'ru'}, {'name': 'koungheul', 'country': 'sn'}, {'name': 'nikolskoye', 'country': 'ru'}, {'name': 'labuhan', 'country': 'id'}, {'name': 'kushima', 'country': 'jp'}, {'name': 'dikson', 'country': 'ru'}, {'name': 'karratha', 'country': 'au'}, {'name': 'luton', 'country': 'gb'}, {'name': 'uvira', 'country': 'cd'}, {'name': 'avarua', 'country': 'ck'}, {'name': 'alofi', 'country': 'nu'}, {'name': 'touros', 'country': 'br'}, {'name': 'hofn', 'country': 'is'}, {'name': 'cap malheureux', 'country': 'mu'}, {'name': 'coihaique', 'country': 'cl'}, {'name': 'saint-philippe', 'country': 're'}, {'name': 'tallahassee', 'country': 'us'}, {'name': 'port hardy', 'country': 'ca'}, {'name': 'bac lieu', 'country': 'vn'}, {'name': 'maloshuyka', 'country': 'ru'}, {'name': 'buariki', 'country': 'ki'}, {'name': 'valdivia', 'country': 'cl'}, {'name': 'esperance', 'country': 'au'}, {'name': 'kaitangata', 'country': 'nz'}, {'name': 'pedernales', 'country': 'do'}, {'name': 'suslovo', 'country': 'ru'}, {'name': 'havoysund', 'country': 'no'}, {'name': 'itupiranga', 'country': 'br'}, {'name': 'port shepstone', 'country': 'za'}, {'name': 'hasaki', 'country': 'jp'}, {'name': 'teguldet', 'country': 'ru'}, {'name': 'novotroitskaya', 'country': 'ru'}, {'name': 'grand gaube', 'country': 'mu'}, {'name': 'murmansk', 'country': 'ru'}, {'name': 'okha', 'country': 'ru'}, {'name': 'codajas', 'country': 'br'}, {'name': 'chlorakas', 'country': 'cy'}, {'name': 'rovnoye', 'country': 'ru'}, {'name': 'berlevag', 'country': 'no'}, {'name': 'tecoanapa', 'country': 'mx'}, {'name': 'mocambique', 'country': 'mz'}, {'name': 'chinna salem', 'country': 'in'}, {'name': 'nizhneyansk', 'country': 'ru'}, {'name': 'baoding', 'country': 'cn'}, {'name': 'palabuhanratu', 'country': 'id'}, {'name': 'makakilo city', 'country': 'us'}, {'name': 'lithakia', 'country': 'gr'}, {'name': 'chelyabinsk', 'country': 'ru'}, {'name': 'mikhaylovka', 'country': 'kz'}, {'name': 'somogyvar', 'country': 'hu'}, {'name': 'bengkalis', 'country': 'id'}, {'name': 'namatanai', 'country': 'pg'}, {'name': 'kargasok', 'country': 'ru'}, {'name': 'lolua', 'country': 'tv'}, {'name': 'birao', 'country': 'cf'}, {'name': 'velyka lepetykha', 'country': 'ua'}, {'name': 'palmer', 'country': 'us'}, {'name': 'sao joao da barra', 'country': 'br'}, {'name': 'araouane', 'country': 'ml'}, {'name': 'buluang', 'country': 'ph'}, {'name': 'leningradskiy', 'country': 'ru'}, {'name': 'tasiilaq', 'country': 'gl'}, {'name': 'auki', 'country': 'sb'}, {'name': 'shenjiamen', 'country': 'cn'}, {'name': 'norman wells', 'country': 'ca'}, {'name': 'portland', 'country': 'au'}, {'name': 'gat', 'country': 'ly'}, {'name': 'longyearbyen', 'country': 'sj'}, {'name': 'aflu', 'country': 'dz'}, {'name': 'santiago de cao', 'country': 'pe'}, {'name': 'matara', 'country': 'lk'}, {'name': 'suez', 'country': 'eg'}, {'name': 'kapuskasing', 'country': 'ca'}, {'name': 'sechura', 'country': 'pe'}, {'name': 'husavik', 'country': 'is'}, {'name': 'hervey bay', 'country': 'au'}, {'name': 'lannion', 'country': 'fr'}, {'name': 'cockburn town', 'country': 'tc'}, {'name': 'malaga', 'country': 'es'}, {'name': 'acacoyagua', 'country': 'mx'}, {'name': 'mutsamudu', 'country': 'km'}, {'name': 'souillac', 'country': 'mu'}, {'name': 'bafoulabe', 'country': 'ml'}, {'name': 'clyde river', 'country': 'ca'}, {'name': 'namibe', 'country': 'ao'}, {'name': 'kahului', 'country': 'us'}, {'name': 'beruni', 'country': 'uz'}, {'name': 'ayni', 'country': 'tj'}, {'name': 'quattro castella', 'country': 'it'}, {'name': 'pisco', 'country': 'pe'}, {'name': 'svay rieng', 'country': 'kh'}, {'name': 'makung', 'country': 'tw'}, {'name': 'ahipara', 'country': 'nz'}, {'name': 'beringovskiy', 'country': 'ru'}, {'name': 'hambantota', 'country': 'lk'}, {'name': 'sri aman', 'country': 'my'}, {'name': 'sagua la grande', 'country': 'cu'}, {'name': 'eyl', 'country': 'so'}, {'name': 'marquette', 'country': 'us'}, {'name': 'salinopolis', 'country': 'br'}, {'name': 'zyryanka', 'country': 'ru'}, {'name': 'goma', 'country': 'cd'}, {'name': 'calama', 'country': 'cl'}, {'name': 'cabo san lucas', 'country': 'mx'}, {'name': 'nizhnyaya omka', 'country': 'ru'}, {'name': 'moura', 'country': 'pt'}, {'name': 'padang', 'country': 'id'}, {'name': 'coahuayana', 'country': 'mx'}, {'name': 'thinadhoo', 'country': 'mv'}, {'name': 'penzance', 'country': 'gb'}, {'name': 'nouakchott', 'country': 'mr'}, {'name': 'burnie', 'country': 'au'}, {'name': 'isla mujeres', 'country': 'mx'}, {'name': 'north battleford', 'country': 'ca'}, {'name': 'chiredzi', 'country': 'zw'}, {'name': 'negara', 'country': 'id'}, {'name': 'bulgan', 'country': 'mn'}, {'name': 'lucapa', 'country': 'ao'}, {'name': 'kudahuvadhoo', 'country': 'mv'}, {'name': 'dembi dolo', 'country': 'et'}, {'name': 'bloomington', 'country': 'us'}, {'name': 'murashi', 'country': 'ru'}, {'name': 'grand river south east', 'country': 'mu'}, {'name': 'grindavik', 'country': 'is'}, {'name': 'vaitupu', 'country': 'wf'}, {'name': 'quelimane', 'country': 'mz'}, {'name': 'atasu', 'country': 'kz'}, {'name': 'yumen', 'country': 'cn'}, {'name': 'kieta', 'country': 'pg'}, {'name': 'suhut', 'country': 'tr'}, {'name': 'praxedis guerrero', 'country': 'mx'}, {'name': 'goderich', 'country': 'sl'}, {'name': 'comodoro rivadavia', 'country': 'ar'}, {'name': 'korem', 'country': 'et'}, {'name': 'acarau', 'country': 'br'}, {'name': 'kelo', 'country': 'td'}, {'name': 'micheweni', 'country': 'tz'}, {'name': 'katsuura', 'country': 'jp'}, {'name': 'kilindoni', 'country': 'tz'}, {'name': 'petropavlovsk-kamchatskiy', 'country': 'ru'}, {'name': 'cape coast', 'country': 'gh'}, {'name': 'tabou', 'country': 'ci'}, {'name': 'nioro', 'country': 'ml'}, {'name': 'longlac', 'country': 'ca'}, {'name': 'tiksi', 'country': 'ru'}, {'name': 'ust-ishim', 'country': 'ru'}, {'name': 'salalah', 'country': 'om'}, {'name': 'fallon', 'country': 'us'}, {'name': 'bandar-e torkaman', 'country': 'ir'}, {'name': 'saleaula', 'country': 'ws'}, {'name': 'shenkursk', 'country': 'ru'}, {'name': 'port augusta', 'country': 'au'}, {'name': 'pangnirtung', 'country': 'ca'}, {'name': 'coquimbo', 'country': 'cl'}, {'name': 'patitirion', 'country': 'gr'}, {'name': 'cockburn town', 'country': 'bs'}, {'name': 'milkovo', 'country': 'ru'}, {'name': 'qasigiannguit', 'country': 'gl'}, {'name': 'vila franca do campo', 'country': 'pt'}, {'name': 'kpandae', 'country': 'gh'}, {'name': 'yidu', 'country': 'cn'}, {'name': 'valparaiso', 'country': 'cl'}, {'name': 'ugoofaaru', 'country': 'mv'}, {'name': 'cabedelo', 'country': 'br'}, {'name': 'seydi', 'country': 'tm'}, {'name': 'vallenar', 'country': 'cl'}, {'name': 'ribeira grande', 'country': 'pt'}, {'name': 'codrington', 'country': 'ag'}, {'name': 'livani', 'country': 'lv'}, {'name': 'homer', 'country': 'us'}, {'name': 'mount pleasant', 'country': 'us'}, {'name': 'bagotville', 'country': 'ca'}, {'name': 'richards bay', 'country': 'za'}, {'name': 'lagoa', 'country': 'pt'}, {'name': 'chokurdakh', 'country': 'ru'}, {'name': 'ayagoz', 'country': 'kz'}, {'name': 'vestmannaeyjar', 'country': 'is'}, {'name': 'honiara', 'country': 'sb'}, {'name': 'svetlogorsk', 'country': 'ru'}, {'name': 'pervomayskoye', 'country': 'ru'}, {'name': 'airai', 'country': 'pw'}, {'name': 'preobrazheniye', 'country': 'ru'}, {'name': 'san quintin', 'country': 'mx'}, {'name': 'mercedes', 'country': 'ar'}, {'name': 'kloulklubed', 'country': 'pw'}, {'name': 'biloela', 'country': 'au'}, {'name': 'cuxhaven', 'country': 'de'}, {'name': 'letlhakane', 'country': 'bw'}, {'name': 'eston', 'country': 'ca'}, {'name': 'petropavlovka', 'country': 'ru'}, {'name': 'skegness', 'country': 'gb'}, {'name': 'rampura', 'country': 'in'}, {'name': 'aksarka', 'country': 'ru'}, {'name': 'klaksvik', 'country': 'fo'}, {'name': 'umzimvubu', 'country': 'za'}, {'name': 'venado tuerto', 'country': 'ar'}, {'name': 'olinda', 'country': 'br'}, {'name': 'jinchengjiang', 'country': 'cn'}, {'name': 'batagay-alyta', 'country': 'ru'}, {'name': 'pierre', 'country': 'us'}, {'name': 'khor', 'country': 'qa'}, {'name': 'lata', 'country': 'sb'}, {'name': 'zhigansk', 'country': 'ru'}, {'name': 'ornskoldsvik', 'country': 'se'}, {'name': 'villa carlos paz', 'country': 'ar'}, {'name': 'narsaq', 'country': 'gl'}, {'name': 'upington', 'country': 'za'}, {'name': 'mys shmidta', 'country': 'ru'}, {'name': 'puerto quijarro', 'country': 'bo'}, {'name': 'ondangwa', 'country': 'na'}, {'name': 'tazovskiy', 'country': 'ru'}, {'name': 'quezon', 'country': 'ph'}, {'name': 'atbasar', 'country': 'kz'}, {'name': 'flinders', 'country': 'au'}, {'name': 'kokkola', 'country': 'fi'}, {'name': 'solnechnyy', 'country': 'ru'}, {'name': 'mulchen', 'country': 'cl'}, {'name': 'kupang', 'country': 'id'}, {'name': 'pinega', 'country': 'ru'}, {'name': 'tosya', 'country': 'tr'}, {'name': 'serenje', 'country': 'zm'}, {'name': 'hunza', 'country': 'pk'}, {'name': 'viedma', 'country': 'ar'}, {'name': 'paamiut', 'country': 'gl'}, {'name': 'bengkulu', 'country': 'id'}, {'name': 'shillong', 'country': 'in'}, {'name': 'wukari', 'country': 'ng'}, {'name': 'torbat-e jam', 'country': 'ir'}, {'name': 'belaya gora', 'country': 'ru'}, {'name': 'hirson', 'country': 'fr'}, {'name': 'nueva loja', 'country': 'ec'}, {'name': 'jiddah', 'country': 'sa'}, {'name': 'loviisa', 'country': 'fi'}, {'name': 'fukue', 'country': 'jp'}, {'name': 'chuzhou', 'country': 'cn'}, {'name': 'linshui', 'country': 'cn'}, {'name': 'nenjiang', 'country': 'cn'}, {'name': 'verkhniye tatyshly', 'country': 'ru'}, {'name': 'truckee', 'country': 'us'}, {'name': 'shimoda', 'country': 'jp'}, {'name': 'bilma', 'country': 'ne'}, {'name': 'zhongxing', 'country': 'cn'}, {'name': 'srednekolymsk', 'country': 'ru'}, {'name': 'tahta', 'country': 'eg'}, {'name': 'lavrentiya', 'country': 'ru'}, {'name': 'balkhash', 'country': 'kz'}, {'name': 'aljezur', 'country': 'pt'}, {'name': 'chumikan', 'country': 'ru'}, {'name': 'grand centre', 'country': 'ca'}, {'name': 'embonas', 'country': 'gr'}, {'name': 'halifax', 'country': 'ca'}, {'name': 'sawtell', 'country': 'au'}, {'name': 'caravelas', 'country': 'br'}, {'name': 'porto belo', 'country': 'br'}, {'name': 'winnemucca', 'country': 'us'}, {'name': 'mogadishu', 'country': 'so'}, {'name': 'nanlong', 'country': 'cn'}, {'name': 'ihosy', 'country': 'mg'}, {'name': 'komsomolskiy', 'country': 'ru'}, {'name': 'taltal', 'country': 'cl'}, {'name': 'rio de janeiro', 'country': 'br'}, {'name': 'dawei', 'country': 'mm'}, {'name': 'faanui', 'country': 'pf'}, {'name': 'diego de almagro', 'country': 'cl'}, {'name': 'kibre mengist', 'country': 'et'}, {'name': 'buin', 'country': 'pg'}, {'name': 'russell', 'country': 'nz'}, {'name': 'songea', 'country': 'tz'}, {'name': 'mount isa', 'country': 'au'}, {'name': 'nuuk', 'country': 'gl'}, {'name': 'casper', 'country': 'us'}, {'name': 'tecpan', 'country': 'mx'}, {'name': 'samusu', 'country': 'ws'}, {'name': 'xixiang', 'country': 'cn'}, {'name': 'moyale', 'country': 'ke'}, {'name': 'los llanos de aridane', 'country': 'es'}, {'name': 'isangel', 'country': 'vu'}, {'name': 'bodden town', 'country': 'ky'}, {'name': 'namasuba', 'country': 'ug'}, {'name': 'quata', 'country': 'br'}, {'name': 'avera', 'country': 'pf'}, {'name': 'segezha', 'country': 'ru'}, {'name': 'roma', 'country': 'au'}, {'name': 'cayenne', 'country': 'gf'}, {'name': 'biloxi', 'country': 'us'}, {'name': 'te anau', 'country': 'nz'}, {'name': 'volodarka', 'country': 'ua'}, {'name': 'vila', 'country': 'vu'}, {'name': 'manono', 'country': 'cd'}, {'name': 'tvoroyri', 'country': 'fo'}, {'name': 'tabatinga', 'country': 'br'}, {'name': 'benghazi', 'country': 'ly'}, {'name': 'broome', 'country': 'au'}, {'name': 'argayash', 'country': 'ru'}, {'name': 'diamantina', 'country': 'br'}, {'name': 'kalmunai', 'country': 'lk'}, {'name': 'gagino', 'country': 'ru'}, {'name': 'mayor pablo lagerenza', 'country': 'py'}, {'name': 'anadyr', 'country': 'ru'}, {'name': 'biak', 'country': 'id'}, {'name': 'shadrinsk', 'country': 'ru'}, {'name': 'atlantic city', 'country': 'us'}, {'name': 'nanakuli', 'country': 'us'}, {'name': 'alanya', 'country': 'tr'}, {'name': 'salym', 'country': 'ru'}, {'name': 'rafai', 'country': 'cf'}, {'name': 'ulladulla', 'country': 'au'}, {'name': 'marawi', 'country': 'sd'}, {'name': 'torbay', 'country': 'ca'}, {'name': 'fairbanks', 'country': 'us'}, {'name': 'marzuq', 'country': 'ly'}, {'name': 'dos hermanas', 'country': 'es'}, {'name': 'narasannapeta', 'country': 'in'}, {'name': 'saint-georges', 'country': 'gf'}, {'name': 'sarangarh', 'country': 'in'}, {'name': 'abonnema', 'country': 'ng'}, {'name': 'burgeo', 'country': 'ca'}, {'name': 'ketchikan', 'country': 'us'}, {'name': 'verkhnevilyuysk', 'country': 'ru'}, {'name': 'kruisfontein', 'country': 'za'}, {'name': 'samarai', 'country': 'pg'}, {'name': 'bacolod', 'country': 'ph'}, {'name': 'barkhan', 'country': 'pk'}, {'name': 'mitu', 'country': 'co'}, {'name': 'olafsvik', 'country': 'is'}, {'name': 'port lincoln', 'country': 'au'}, {'name': 'saint-pierre', 'country': 'pm'}, {'name': 'muisne', 'country': 'ec'}, {'name': 'college', 'country': 'us'}, {'name': 'bud', 'country': 'no'}, {'name': 'cabinda', 'country': 'ao'}, {'name': 'iskateley', 'country': 'ru'}, {'name': 'stokmarknes', 'country': 'no'}, {'name': 'butembo', 'country': 'cd'}, {'name': 'shinpokh', 'country': 'pk'}, {'name': 'iglesias', 'country': 'it'}, {'name': 'diffa', 'country': 'ne'}, {'name': 'guangyuan', 'country': 'cn'}, {'name': 'port hedland', 'country': 'au'}, {'name': 'ibadan', 'country': 'ng'}, {'name': 'zeya', 'country': 'ru'}, {'name': 'yomitan', 'country': 'jp'}, {'name': 'tungor', 'country': 'ru'}, {'name': 'kamenskoye', 'country': 'ru'}, {'name': 'tautira', 'country': 'pf'}, {'name': 'magadan', 'country': 'ru'}, {'name': 'djenne', 'country': 'ml'}, {'name': 'babu', 'country': 'cn'}, {'name': 'qui nhon', 'country': 'vn'}, {'name': 'kamenka', 'country': 'ru'}, {'name': 'noboribetsu', 'country': 'jp'}, {'name': 'poum', 'country': 'nc'}, {'name': 'yulara', 'country': 'au'}, {'name': 'lalin', 'country': 'es'}, {'name': 'sumbe', 'country': 'ao'}, {'name': 'bereda', 'country': 'so'}, {'name': 'mareeba', 'country': 'au'}, {'name': 'dudinka', 'country': 'ru'}, {'name': 'nouadhibou', 'country': 'mr'}, {'name': 'girau do ponciano', 'country': 'br'}, {'name': 'sharjah', 'country': 'ae'}, {'name': 'bat yam', 'country': 'il'}, {'name': 'ucluelet', 'country': 'ca'}, {'name': 'kavaratti', 'country': 'in'}, {'name': 'barroui', 'country': 'dm'}, {'name': 'sinnamary', 'country': 'gf'}, {'name': 'riyadh', 'country': 'sa'}, {'name': 'verkhoyansk', 'country': 'ru'}, {'name': 'pousat', 'country': 'kh'}, {'name': 'quirinopolis', 'country': 'br'}, {'name': 'pitimbu', 'country': 'br'}, {'name': 'uvalde', 'country': 'us'}, {'name': 'ban nahin', 'country': 'la'}, {'name': 'bonthe', 'country': 'sl'}, {'name': 'yaan', 'country': 'cn'}, {'name': 'dombarovskiy', 'country': 'ru'}, {'name': 'porto novo', 'country': 'cv'}, {'name': 'pontianak', 'country': 'id'}, {'name': 'altay', 'country': 'cn'}, {'name': 'zakamensk', 'country': 'ru'}, {'name': 'bauchi', 'country': 'ng'}, {'name': 'la ronge', 'country': 'ca'}, {'name': 'edmundston', 'country': 'ca'}, {'name': 'dongsheng', 'country': 'cn'}, {'name': 'deputatskiy', 'country': 'ru'}, {'name': 'healdsburg', 'country': 'us'}, {'name': 'marcona', 'country': 'pe'}, {'name': 'hovd', 'country': 'mn'}, {'name': 'novyy nekouz', 'country': 'ru'}, {'name': 'uk', 'country': 'ru'}, {'name': 'camana', 'country': 'pe'}, {'name': 'saint-francois', 'country': 'gp'}, {'name': 'ziway', 'country': 'et'}, {'name': 'vung tau', 'country': 'vn'}, {'name': 'columbus', 'country': 'us'}, {'name': 'jiuquan', 'country': 'cn'}, {'name': 'banmo', 'country': 'mm'}, {'name': 'cam ranh', 'country': 'vn'}, {'name': 'strezhevoy', 'country': 'ru'}, {'name': 'buraydah', 'country': 'sa'}, {'name': 'anloga', 'country': 'gh'}, {'name': 'waingapu', 'country': 'id'}, {'name': 'tucuman', 'country': 'ar'}, {'name': 'phrae', 'country': 'th'}, {'name': 'khasan', 'country': 'ru'}, {'name': 'inirida', 'country': 'co'}, {'name': 'soligalich', 'country': 'ru'}, {'name': 'kodinsk', 'country': 'ru'}, {'name': 'kasane', 'country': 'bw'}, {'name': 'kultuk', 'country': 'ru'}, {'name': 'puri', 'country': 'in'}, {'name': 'christchurch', 'country': 'nz'}, {'name': 'ngukurr', 'country': 'au'}, {'name': 'khorixas', 'country': 'na'}, {'name': 'tiznit', 'country': 'ma'}, {'name': 'half moon bay', 'country': 'us'}, {'name': 'conceicao do araguaia', 'country': 'br'}, {'name': 'harwich', 'country': 'us'}, {'name': 'tara', 'country': 'ru'}, {'name': 'rotnes', 'country': 'no'}, {'name': 'tiarei', 'country': 'pf'}, {'name': 'mookane', 'country': 'bw'}, {'name': 'moron', 'country': 'mn'}, {'name': 'geldermalsen', 'country': 'nl'}, {'name': 'umm lajj', 'country': 'sa'}, {'name': 'chaumont', 'country': 'fr'}, {'name': 'augusta', 'country': 'us'}, {'name': 'balimo', 'country': 'pg'}, {'name': 'honningsvag', 'country': 'no'}, {'name': 'eureka', 'country': 'us'}, {'name': 'laguna', 'country': 'br'}, {'name': 'banjar', 'country': 'id'}, {'name': 'davidson', 'country': 'ca'}, {'name': 'san patricio', 'country': 'mx'}, {'name': 'aquidauana', 'country': 'br'}, {'name': 'solovetskiy', 'country': 'ru'}, {'name': 'banfora', 'country': 'bf'}, {'name': 'sidney', 'country': 'us'}, {'name': 'inhambane', 'country': 'mz'}, {'name': 'morehead', 'country': 'pg'}, {'name': 'hokitika', 'country': 'nz'}, {'name': 'arevshat', 'country': 'am'}, {'name': 'chagda', 'country': 'ru'}, {'name': 'bosanska gradiska', 'country': 'ba'}, {'name': 'the valley', 'country': 'ai'}, {'name': 'hudiksvall', 'country': 'se'}, {'name': 'luvianos', 'country': 'mx'}, {'name': 'raudeberg', 'country': 'no'}, {'name': 'virginia beach', 'country': 'us'}, {'name': 'sovetskiy', 'country': 'ru'}, {'name': 'mahon', 'country': 'es'}, {'name': 'beaufort', 'country': 'my'}, {'name': 'dunyapur', 'country': 'pk'}, {'name': 'ola', 'country': 'ru'}, {'name': 'kyabe', 'country': 'td'}, {'name': 'kyaikkami', 'country': 'mm'}, {'name': 'cairns', 'country': 'au'}, {'name': 'awbari', 'country': 'ly'}, {'name': 'mount gambier', 'country': 'au'}, {'name': 'eidfjord', 'country': 'no'}, {'name': 'carutapera', 'country': 'br'}, {'name': 'poso', 'country': 'id'}, {'name': 'naze', 'country': 'jp'}, {'name': 'moundsville', 'country': 'us'}, {'name': 'mildura', 'country': 'au'}, {'name': 'huilong', 'country': 'cn'}, {'name': 'tupik', 'country': 'ru'}, {'name': 'alotau', 'country': 'pg'}, {'name': 'redmond', 'country': 'us'}, {'name': 'beckley', 'country': 'us'}, {'name': 'halalo', 'country': 'wf'}, {'name': 'kirensk', 'country': 'ru'}, {'name': 'wanning', 'country': 'cn'}, {'name': 'san clemente', 'country': 'cl'}, {'name': 'ciras', 'country': 'af'}, {'name': 'tura', 'country': 'ru'}, {'name': 'gushikawa', 'country': 'jp'}, {'name': 'jacqueville', 'country': 'ci'}, {'name': 'okhotsk', 'country': 'ru'}, {'name': 'tsabong', 'country': 'bw'}, {'name': 'weligama', 'country': 'lk'}, {'name': 'huarmey', 'country': 'pe'}, {'name': 'kuldur', 'country': 'ru'}, {'name': 'along', 'country': 'in'}, {'name': 'udachnyy', 'country': 'ru'}, {'name': 'marsa matruh', 'country': 'eg'}, {'name': 'guanhaes', 'country': 'br'}, {'name': 'iona', 'country': 'us'}, {'name': 'aklavik', 'country': 'ca'}, {'name': 'tanete', 'country': 'id'}, {'name': 'sucua', 'country': 'ec'}, {'name': 'sibu', 'country': 'my'}, {'name': 'qandala', 'country': 'so'}, {'name': 'vila velha', 'country': 'br'}, {'name': 'aiquile', 'country': 'bo'}, {'name': 'sahrak', 'country': 'af'}, {'name': 'dalton', 'country': 'us'}, {'name': 'turochak', 'country': 'ru'}, {'name': 'burley', 'country': 'us'}, {'name': 'vaitape', 'country': 'pf'}, {'name': 'nigel', 'country': 'za'}, {'name': 'lac du bonnet', 'country': 'ca'}, {'name': 'mahanoro', 'country': 'mg'}, {'name': 'chernyshevskiy', 'country': 'ru'}, {'name': 'brae', 'country': 'gb'}, {'name': 'prince rupert', 'country': 'ca'}, {'name': 'broken hill', 'country': 'au'}, {'name': 'lasa', 'country': 'cn'}, {'name': 'orbetello', 'country': 'it'}, {'name': 'usinsk', 'country': 'ru'}, {'name': 'sandwick', 'country': 'gb'}, {'name': 'yenagoa', 'country': 'ng'}, {'name': 'nassau', 'country': 'bs'}, {'name': 'sosnovo-ozerskoye', 'country': 'ru'}, {'name': 'kelso', 'country': 'us'}, {'name': 'camara de lobos', 'country': 'pt'}, {'name': 'humberto de campos', 'country': 'br'}, {'name': 'rosenberg', 'country': 'us'}, {'name': 'itacare', 'country': 'br'}, {'name': 'yerbogachen', 'country': 'ru'}, {'name': 'lazaro cardenas', 'country': 'mx'}, {'name': 'eldikan', 'country': 'ru'}, {'name': 'trincomalee', 'country': 'lk'}, {'name': 'akdepe', 'country': 'tm'}, {'name': 'nikolsk', 'country': 'ru'}, {'name': 'manadhoo', 'country': 'mv'}, {'name': 'komatipoort', 'country': 'za'}, {'name': 'talnakh', 'country': 'ru'}, {'name': 'darhan', 'country': 'mn'}, {'name': 'kismayo', 'country': 'so'}, {'name': 'hobyo', 'country': 'so'}, {'name': 'mvangue', 'country': 'cm'}, {'name': 'san blas', 'country': 'mx'}, {'name': 'dalby', 'country': 'au'}, {'name': 'opuwo', 'country': 'na'}, {'name': 'date', 'country': 'jp'}, {'name': 'hualmay', 'country': 'pe'}, {'name': 'newport', 'country': 'us'}, {'name': 'humaita', 'country': 'br'}, {'name': 'lamu', 'country': 'ke'}, {'name': 'lake saint louis', 'country': 'us'}, {'name': 'wangaratta', 'country': 'au'}, {'name': 'araguaina', 'country': 'br'}, {'name': 'chifeng', 'country': 'cn'}, {'name': 'haines junction', 'country': 'ca'}, {'name': 'dzhusaly', 'country': 'kz'}, {'name': 'whitianga', 'country': 'nz'}, {'name': 'caconda', 'country': 'ao'}, {'name': 'upata', 'country': 've'}, {'name': 'macau', 'country': 'br'}, {'name': 'gazli', 'country': 'uz'}, {'name': 'moree', 'country': 'au'}, {'name': 'oyama', 'country': 'jp'}, {'name': 'lorut', 'country': 'am'}, {'name': 'puerto carreno', 'country': 'co'}, {'name': 'yendi', 'country': 'gh'}, {'name': 'petatlan', 'country': 'mx'}, {'name': 'alindao', 'country': 'cf'}, {'name': 'polovinnoye', 'country': 'ru'}, {'name': 'sawakin', 'country': 'sd'}, {'name': 'tortoli', 'country': 'it'}, {'name': 'coatepec harinas', 'country': 'mx'}, {'name': 'imbituba', 'country': 'br'}, {'name': 'elk plain', 'country': 'us'}, {'name': 'sicamous', 'country': 'ca'}, {'name': 'zerbst', 'country': 'de'}, {'name': 'koidu', 'country': 'sl'}, {'name': 'bekhtery', 'country': 'ua'}, {'name': 'morondava', 'country': 'mg'}, {'name': 'dali', 'country': 'cn'}, {'name': 'dhidhdhoo', 'country': 'mv'}, {'name': 'sendai', 'country': 'jp'}, {'name': 'mecca', 'country': 'sa'}, {'name': 'victoria', 'country': 'us'}, {'name': 'tumannyy', 'country': 'ru'}, {'name': 'menongue', 'country': 'ao'}]\n"
     ]
    }
   ],
   "source": [
    "print(cities)"
   ]
  },
  {
   "cell_type": "markdown",
   "metadata": {},
   "source": [
    "### Perform API Calls\n",
    "* Perform a weather check on each city using a series of successive API calls.\n",
    "* Include a print log of each city as it'sbeing processed (with the city number and city name).\n"
   ]
  },
  {
   "cell_type": "code",
   "execution_count": null,
   "metadata": {
    "scrolled": true
   },
   "outputs": [
    {
     "name": "stdout",
     "output_type": "stream",
     "text": [
      "Retrieved data for 0-Nemuro, JP (43.32,145.57)\n",
      "Retrieved data for 1-Jamestown, SH (-15.94,-5.72)\n",
      "Retrieved data for 2-Chui, UY (-33.7,-53.46)\n",
      "Retrieved data for 3-New Norfolk, AU (-42.78,147.06)\n",
      "Retrieved data for 4-Yellowknife, CA (62.46,-114.35)\n",
      "Retrieved data for 5-Mantua, CU (22.29,-84.28)\n",
      "Retrieved data for 6-Hermanus, ZA (-34.42,19.23)\n",
      "Retrieved data for 7-Nyuksenitsa, RU (60.41,44.24)\n",
      "Retrieved data for 8-Lompoc, US (34.64,-120.46)\n",
      "Retrieved data for 9-Port Elizabeth, ZA (-33.92,25.57)\n",
      "Retrieved data for 10-Ouégoa, NC (-20.35,164.43)\n",
      "Retrieved data for 11-Sarangani, PH (5.4,125.46)\n",
      "Retrieved data for 12-Bambous Virieux, MU (-20.34,57.76)\n",
      "Retrieved data for 13-Sur, OM (22.57,59.53)\n",
      "Retrieved data for 14-Albany, AU (-35.02,117.89)\n",
      "Retrieved data for 15-Sitka, US (57.05,-135.33)\n",
      "Retrieved data for 16-Rikitea, PF (-23.12,-134.97)\n",
      "Retrieved data for 17-Meulaboh, ID (4.14,96.13)\n",
      "Retrieved data for 18-Lebu, CL (-37.62,-73.65)\n",
      "Retrieved data for 19-Port-de-Bouc, FR (43.4,4.98)\n",
      "Retrieved data for 20-Benguela, AO (-12.58,13.41)\n",
      "Retrieved data for 21-Varadero, CU (23.15,-81.25)\n",
      "Retrieved data for 22-Saldanha, ZA (-33.01,17.94)\n",
      "Retrieved data for 23-Djougou, BJ (9.71,1.67)\n",
      "Retrieved data for 24-Sola, VU (-13.88,167.55)\n",
      "Retrieved data for 25-Bubaque, GW (11.28,-15.83)\n",
      "Retrieved data for 26-Punta Arenas, CL (-53.15,-70.92)\n",
      "Retrieved data for 27-Saint-Augustin, CA (51.23,-58.65)\n",
      "Retrieved data for 28-Puerto Ayora, EC (-0.74,-90.35)\n",
      "Retrieved data for 29-Ürümqi, CN (43.8,87.6)\n",
      "Retrieved data for 30-Arraial do Cabo, BR (-22.97,-42.03)\n",
      "Retrieved data for 31-Poronaysk, RU (49.22,143.12)\n",
      "Retrieved data for 32-East London, ZA (-33.02,27.91)\n",
      "Retrieved data for 33-Busselton, AU (-33.65,115.33)\n",
      "Retrieved data for 34-Saskylakh, RU (71.92,114.08)\n",
      "Retrieved data for 35-Kapaa, US (22.08,-159.32)\n",
      "Retrieved data for 36-Salinas, EC (-2.22,-80.97)\n",
      "Retrieved data for 37-Seoul, KR (37.57,126.98)\n",
      "Retrieved data for 38-Tuxpan, MX (19.55,-103.4)\n",
      "Retrieved data for 39-Hobart, AU (-42.88,147.33)\n",
      "Retrieved data for 40-San Cristobal, EC (-0.9,-89.62)\n",
      "Retrieved data for 41-Ponta do Sol, CV (17.2,-25.09)\n",
      "Retrieved data for 42-Carnarvon, AU (-24.87,113.63)\n",
      "Retrieved data for 43-Maragogi, BR (-9.01,-35.22)\n",
      "Retrieved data for 44-Sørland, NO (67.67,12.69)\n",
      "Retrieved data for 45-Limulunga, ZM (-15.1,23.14)\n",
      "Retrieved data for 46-Bredasdorp, ZA (-34.53,20.04)\n",
      "Retrieved data for 47-Fergus Falls, US (46.28,-96.08)\n",
      "Retrieved data for 48-Geraldton, AU (-28.77,114.6)\n",
      "Pausing for a minute so we don't max out our api per minutes limit!\n",
      "Retrieved data for 49-Kavieng, PG (-2.57,150.8)\n",
      "Retrieved data for 50-Kamaishi, JP (39.27,141.88)\n",
      "Retrieved data for 51-Shingū, JP (33.73,135.98)\n",
      "Retrieved data for 52-Guerrero Negro, MX (27.98,-114.06)\n",
      "Retrieved data for 53-Pemangkat, ID (1.17,108.97)\n",
      "Retrieved data for 54-Upernavik, GL (72.79,-56.15)\n"
     ]
    }
   ],
   "source": [
    "base_url = \"http://api.openweathermap.org/data/2.5/weather?\"\n",
    "units = \"imperial\"\n",
    "city_id = []\n",
    "city_name = []\n",
    "city_cloudiness = []\n",
    "city_country = []\n",
    "city_date = []\n",
    "city_humidity = []\n",
    "city_latitude = []\n",
    "city_longitude = []\n",
    "city_temperature = []\n",
    "city_wind_speed = []\n",
    "\n",
    "\n",
    "# Build partial query URL\n",
    "query_url = f\"{base_url}appid={g_key}&units={units}&q=\"\n",
    "\n",
    "city_cntr = -1\n",
    "no_cities_to_retrieve = 525\n",
    "\n",
    "\n",
    "# Loop through cities\n",
    "for index, city in enumerate(cities):\n",
    "    # See if we need to sleep so we don't go over our 60 a minute max for the api\n",
    "    q, mod = divmod(index+1,55)\n",
    "    if mod == 0:\n",
    "        print(\"Pausing for a minute so we don't max out our api per minutes limit!\")\n",
    "        time.sleep(60)\n",
    "    \n",
    "    \n",
    "    \n",
    "    # Retrieve data information\n",
    "    try:\n",
    "        city_json = requests.get(query_url + city['name'] + ', ' + city['country']).json()\n",
    "    except:\n",
    "        print(f\"City not found - {city['name']}, {city['country']} - skipping\")\n",
    "\n",
    "    if city_json['cod'] == 200:\n",
    "        city_cntr += 1\n",
    "        print(f\"Retrieved data for {city_cntr}-{city_json['name']}, {city_json['sys']['country']} ({city_json['coord']['lat']},{city_json['coord']['lon']})\")\n",
    "        \n",
    "        city_id.append(city_cntr)\n",
    "        city_name.append(city_json['name'])\n",
    "        city_cloudiness.append(city_json['clouds']['all'])\n",
    "        city_country.append(city_json['sys']['country'])\n",
    "        city_date.append(city_json['dt'])\n",
    "        city_humidity.append(city_json['main']['humidity'])\n",
    "        city_latitude.append(city_json['coord']['lat'])\n",
    "        city_longitude.append(city_json['coord']['lon'])\n",
    "        city_temperature.append(city_json['main']['temp_max'])              \n",
    "        city_wind_speed.append(city_json['wind']['speed'])\n",
    "    \n",
    "    if city_cntr+1 == no_cities_to_retrieve:\n",
    "        break\n",
    "    \n",
    "          "
   ]
  },
  {
   "cell_type": "markdown",
   "metadata": {},
   "source": [
    "### Convert Raw Data to DataFrame\n",
    "* Export the city data into a .csv.\n",
    "* Display the DataFrame"
   ]
  },
  {
   "cell_type": "code",
   "execution_count": 5,
   "metadata": {},
   "outputs": [],
   "source": [
    "# City_ID,City,Cloudiness,Country,Date,Humidity,Lat,Lng,Max Temp,Wind Speed\n",
    "city_data = {\n",
    "             \"City ID\": city_id,\n",
    "             \"City\": city_name,\n",
    "             \"Cloudiness (%)\": city_cloudiness,\n",
    "             \"Country\": city_country,    \n",
    "             \"Date\": city_date,\n",
    "             \"Humidity (%)\": city_humidity,\n",
    "             \"Lat\": city_latitude,\n",
    "             \"Lng\": city_longitude,\n",
    "             \"Max Temp\": city_temperature,\n",
    "             \"Wind Speed (mph)\": city_wind_speed\n",
    "            }\n",
    "\n",
    "city_df = pd.DataFrame(city_data)\n",
    "city_df.set_index('City ID', inplace = True)\n",
    "\n",
    "# Write the cities.csv file\n",
    "csv_file_name = \"../output_data/cities.csv\"\n",
    "\n",
    "city_df.to_csv(csv_file_name)"
   ]
  },
  {
   "cell_type": "markdown",
   "metadata": {},
   "source": [
    "## Inspect the data and remove the cities where the humidity > 100%.\n",
    "----\n",
    "Skip this step if there are no cities that have humidity > 100%. "
   ]
  },
  {
   "cell_type": "code",
   "execution_count": null,
   "metadata": {},
   "outputs": [],
   "source": []
  },
  {
   "cell_type": "markdown",
   "metadata": {},
   "source": [
    "## Plotting the Data\n",
    "* Use proper labeling of the plots using plot titles (including date of analysis) and axes labels.\n",
    "* Save the plotted figures as .pngs."
   ]
  },
  {
   "cell_type": "code",
   "execution_count": null,
   "metadata": {},
   "outputs": [],
   "source": []
  },
  {
   "cell_type": "markdown",
   "metadata": {},
   "source": [
    "## Latitude vs. Temperature Plot"
   ]
  },
  {
   "cell_type": "code",
   "execution_count": null,
   "metadata": {
    "scrolled": true
   },
   "outputs": [],
   "source": []
  },
  {
   "cell_type": "markdown",
   "metadata": {},
   "source": [
    "## Latitude vs. Humidity Plot"
   ]
  },
  {
   "cell_type": "code",
   "execution_count": null,
   "metadata": {},
   "outputs": [],
   "source": []
  },
  {
   "cell_type": "markdown",
   "metadata": {},
   "source": [
    "## Latitude vs. Cloudiness Plot"
   ]
  },
  {
   "cell_type": "code",
   "execution_count": null,
   "metadata": {},
   "outputs": [],
   "source": []
  },
  {
   "cell_type": "markdown",
   "metadata": {},
   "source": [
    "## Latitude vs. Wind Speed Plot"
   ]
  },
  {
   "cell_type": "code",
   "execution_count": null,
   "metadata": {},
   "outputs": [],
   "source": []
  },
  {
   "cell_type": "markdown",
   "metadata": {},
   "source": [
    "## Linear Regression"
   ]
  },
  {
   "cell_type": "code",
   "execution_count": null,
   "metadata": {},
   "outputs": [],
   "source": []
  },
  {
   "cell_type": "markdown",
   "metadata": {},
   "source": [
    "####  Northern Hemisphere - Max Temp vs. Latitude Linear Regression"
   ]
  },
  {
   "cell_type": "code",
   "execution_count": null,
   "metadata": {},
   "outputs": [],
   "source": []
  },
  {
   "cell_type": "markdown",
   "metadata": {},
   "source": [
    "####  Southern Hemisphere - Max Temp vs. Latitude Linear Regression"
   ]
  },
  {
   "cell_type": "code",
   "execution_count": null,
   "metadata": {},
   "outputs": [],
   "source": []
  },
  {
   "cell_type": "markdown",
   "metadata": {},
   "source": [
    "####  Northern Hemisphere - Humidity (%) vs. Latitude Linear Regression"
   ]
  },
  {
   "cell_type": "code",
   "execution_count": null,
   "metadata": {},
   "outputs": [],
   "source": []
  },
  {
   "cell_type": "markdown",
   "metadata": {},
   "source": [
    "####  Southern Hemisphere - Humidity (%) vs. Latitude Linear Regression"
   ]
  },
  {
   "cell_type": "code",
   "execution_count": null,
   "metadata": {},
   "outputs": [],
   "source": []
  },
  {
   "cell_type": "markdown",
   "metadata": {},
   "source": [
    "####  Northern Hemisphere - Cloudiness (%) vs. Latitude Linear Regression"
   ]
  },
  {
   "cell_type": "code",
   "execution_count": null,
   "metadata": {},
   "outputs": [],
   "source": []
  },
  {
   "cell_type": "markdown",
   "metadata": {},
   "source": [
    "####  Southern Hemisphere - Cloudiness (%) vs. Latitude Linear Regression"
   ]
  },
  {
   "cell_type": "code",
   "execution_count": null,
   "metadata": {},
   "outputs": [],
   "source": []
  },
  {
   "cell_type": "markdown",
   "metadata": {},
   "source": [
    "####  Northern Hemisphere - Wind Speed (mph) vs. Latitude Linear Regression"
   ]
  },
  {
   "cell_type": "code",
   "execution_count": null,
   "metadata": {},
   "outputs": [],
   "source": []
  },
  {
   "cell_type": "markdown",
   "metadata": {},
   "source": [
    "####  Southern Hemisphere - Wind Speed (mph) vs. Latitude Linear Regression"
   ]
  },
  {
   "cell_type": "code",
   "execution_count": null,
   "metadata": {},
   "outputs": [],
   "source": []
  },
  {
   "cell_type": "code",
   "execution_count": null,
   "metadata": {},
   "outputs": [],
   "source": []
  },
  {
   "cell_type": "code",
   "execution_count": null,
   "metadata": {},
   "outputs": [],
   "source": []
  },
  {
   "cell_type": "code",
   "execution_count": null,
   "metadata": {},
   "outputs": [],
   "source": []
  }
 ],
 "metadata": {
  "anaconda-cloud": {},
  "kernel_info": {
   "name": "python3"
  },
  "kernelspec": {
   "display_name": "Python [conda env:PythonData]",
   "language": "python",
   "name": "conda-env-PythonData-py"
  },
  "language_info": {
   "codemirror_mode": {
    "name": "ipython",
    "version": 3
   },
   "file_extension": ".py",
   "mimetype": "text/x-python",
   "name": "python",
   "nbconvert_exporter": "python",
   "pygments_lexer": "ipython3",
   "version": "3.6.10"
  },
  "latex_envs": {
   "LaTeX_envs_menu_present": true,
   "autoclose": false,
   "autocomplete": true,
   "bibliofile": "biblio.bib",
   "cite_by": "apalike",
   "current_citInitial": 1,
   "eqLabelWithNumbers": true,
   "eqNumInitial": 1,
   "hotkeys": {
    "equation": "Ctrl-E",
    "itemize": "Ctrl-I"
   },
   "labels_anchors": false,
   "latex_user_defs": false,
   "report_style_numbering": false,
   "user_envs_cfg": false
  },
  "nteract": {
   "version": "0.12.3"
  }
 },
 "nbformat": 4,
 "nbformat_minor": 2
}
