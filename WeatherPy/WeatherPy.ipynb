{
 "cells": [
  {
   "cell_type": "markdown",
   "metadata": {},
   "source": [
    "# WeatherPy\n",
    "----\n",
    "\n",
    "#### Note\n",
    "* Instructions have been included for each segment. You do not have to follow them exactly, but they are included to help you think through the steps."
   ]
  },
  {
   "cell_type": "code",
   "execution_count": 1,
   "metadata": {
    "scrolled": true
   },
   "outputs": [],
   "source": [
    "# Dependencies\n",
    "import pandas as pd\n",
    "import matplotlib.pyplot as plt\n",
    "import numpy as np\n",
    "import requests\n",
    "import json\n",
    "import csv\n",
    "import datetime\n",
    "import time\n",
    "from citipy import citipy\n",
    "import random\n",
    "from scipy.stats import linregress\n",
    "\n",
    "# Google API Key\n",
    "from api_keys import g_key\n",
    "\n",
    "random.seed(333)"
   ]
  },
  {
   "cell_type": "markdown",
   "metadata": {},
   "source": [
    "## Generate Cities List"
   ]
  },
  {
   "cell_type": "code",
   "execution_count": 2,
   "metadata": {},
   "outputs": [],
   "source": [
    "# Setup the ranges for latitude and longitude\n",
    "latitude_range = (-90,90)\n",
    "longatude_range = (-180,180)\n",
    "\n",
    "# Create variables for data\n",
    "cities = []\n",
    "\n",
    "no_cities = 2000\n",
    "for cntr in range(no_cities):\n",
    "    latitude = random.uniform(latitude_range[0],latitude_range[1])\n",
    "    longitude = random.uniform(longatude_range[0],longatude_range[1])\n",
    "    \n",
    "    # If we have chosen a latitude of 0 then we don't want to use that\n",
    "    # one\n",
    "    if latitude != 0:\n",
    "        city = citipy.nearest_city(latitude,longitude)\n",
    "        city_name = city.city_name\n",
    "        city_country = city.country_code\n",
    "        if not any(c['name'] == city_name and c['country'] == city_country for c in cities):\n",
    "            city_dict = {'name': city_name,'country': city_country}\n",
    "            cities.append(city_dict)"
   ]
  },
  {
   "cell_type": "code",
   "execution_count": 3,
   "metadata": {},
   "outputs": [
    {
     "name": "stdout",
     "output_type": "stream",
     "text": [
      "[{'name': 'mana', 'country': 'gf'}, {'name': 'barrow', 'country': 'us'}, {'name': 'fort wellington', 'country': 'gy'}, {'name': 'te anau', 'country': 'nz'}, {'name': 'geraldton', 'country': 'au'}, {'name': 'fairbanks', 'country': 'us'}, {'name': 'punta arenas', 'country': 'cl'}, {'name': 'jamestown', 'country': 'sh'}, {'name': 'pevek', 'country': 'ru'}, {'name': 'tabiauea', 'country': 'ki'}, {'name': 'east london', 'country': 'za'}, {'name': 'mys shmidta', 'country': 'ru'}, {'name': 'qaanaaq', 'country': 'gl'}, {'name': 'hasaki', 'country': 'jp'}, {'name': 'vaini', 'country': 'to'}, {'name': 'mar del plata', 'country': 'ar'}, {'name': 'maraba', 'country': 'br'}, {'name': 'faanui', 'country': 'pf'}, {'name': 'rehoboth', 'country': 'na'}, {'name': 'bluff', 'country': 'nz'}, {'name': 'bogotol', 'country': 'ru'}, {'name': 'leningradskiy', 'country': 'ru'}, {'name': 'inongo', 'country': 'cd'}, {'name': 'taolanaro', 'country': 'mg'}, {'name': 'port elizabeth', 'country': 'za'}, {'name': 'camocim', 'country': 'br'}, {'name': 'mecca', 'country': 'sa'}, {'name': 'lebu', 'country': 'cl'}, {'name': 'albany', 'country': 'au'}, {'name': 'azimur', 'country': 'ma'}, {'name': 'turangi', 'country': 'nz'}, {'name': 'qeshm', 'country': 'ir'}, {'name': 'mataura', 'country': 'pf'}, {'name': 'new norfolk', 'country': 'au'}, {'name': 'komsomolskiy', 'country': 'ru'}, {'name': 'ajdabiya', 'country': 'ly'}, {'name': 'mikhaylovka', 'country': 'kz'}, {'name': 'port-gentil', 'country': 'ga'}, {'name': 'lolua', 'country': 'tv'}, {'name': 'inderborskiy', 'country': 'kz'}, {'name': 'windhoek', 'country': 'na'}, {'name': 'xining', 'country': 'cn'}, {'name': 'san ramon', 'country': 'bo'}, {'name': 'comodoro rivadavia', 'country': 'ar'}, {'name': 'beira', 'country': 'mz'}, {'name': 'rikitea', 'country': 'pf'}, {'name': 'saint george', 'country': 'bm'}, {'name': 'touros', 'country': 'br'}, {'name': 'nchelenge', 'country': 'zm'}, {'name': 'torbay', 'country': 'ca'}, {'name': 'nouadhibou', 'country': 'mr'}, {'name': 'swan hill', 'country': 'au'}, {'name': 'port hedland', 'country': 'au'}, {'name': 'hermanus', 'country': 'za'}, {'name': 'castro', 'country': 'cl'}, {'name': 'cherskiy', 'country': 'ru'}, {'name': 'college', 'country': 'us'}, {'name': 'puerto ayora', 'country': 'ec'}, {'name': 'mayo', 'country': 'ca'}, {'name': 'butaritari', 'country': 'ki'}, {'name': 'gimli', 'country': 'ca'}, {'name': 'samusu', 'country': 'ws'}, {'name': 'anito', 'country': 'ph'}, {'name': 'port alfred', 'country': 'za'}, {'name': 'kaitangata', 'country': 'nz'}, {'name': 'bonito', 'country': 'br'}, {'name': 'karagay', 'country': 'ru'}, {'name': 'trebisacce', 'country': 'it'}, {'name': 'kavieng', 'country': 'pg'}, {'name': 'palmer', 'country': 'us'}, {'name': 'bethel', 'country': 'us'}, {'name': 'tuatapere', 'country': 'nz'}, {'name': 'hilo', 'country': 'us'}, {'name': 'monrovia', 'country': 'lr'}, {'name': 'husavik', 'country': 'is'}, {'name': 'kodiak', 'country': 'us'}, {'name': 'vaitupu', 'country': 'wf'}, {'name': 'liberal', 'country': 'us'}, {'name': 'arraial do cabo', 'country': 'br'}, {'name': 'carlagan', 'country': 'ph'}, {'name': 'ribeira grande', 'country': 'pt'}, {'name': 'provideniya', 'country': 'ru'}, {'name': 'chom bung', 'country': 'th'}, {'name': 'bautzen', 'country': 'de'}, {'name': 'broome', 'country': 'au'}, {'name': 'taoudenni', 'country': 'ml'}, {'name': 'butembo', 'country': 'cd'}, {'name': 'sungaipenuh', 'country': 'id'}, {'name': 'hobart', 'country': 'au'}, {'name': 'vanimo', 'country': 'pg'}, {'name': 'barentsburg', 'country': 'sj'}, {'name': 'mandalgovi', 'country': 'mn'}, {'name': 'khatanga', 'country': 'ru'}, {'name': 'ushuaia', 'country': 'ar'}, {'name': 'nikolskoye', 'country': 'ru'}, {'name': 'kapaa', 'country': 'us'}, {'name': 'yellowknife', 'country': 'ca'}, {'name': 'saint-paul', 'country': 're'}, {'name': 'sao filipe', 'country': 'cv'}, {'name': 'tiksi', 'country': 'ru'}, {'name': 'baljevac', 'country': 'rs'}, {'name': 'georgetown', 'country': 'sh'}, {'name': 'pingdu', 'country': 'cn'}, {'name': 'along', 'country': 'in'}, {'name': 'codrington', 'country': 'ag'}, {'name': 'kasamwa', 'country': 'tz'}, {'name': 'ostrovnoy', 'country': 'ru'}, {'name': 'busselton', 'country': 'au'}, {'name': 'bilma', 'country': 'ne'}, {'name': 'nioro', 'country': 'ml'}, {'name': 'inhambane', 'country': 'mz'}, {'name': 'hobyo', 'country': 'so'}, {'name': 'victoria', 'country': 'sc'}, {'name': 'san carlos de bariloche', 'country': 'ar'}, {'name': 'naftah', 'country': 'tn'}, {'name': 'jalu', 'country': 'ly'}, {'name': 'mayumba', 'country': 'ga'}, {'name': 'biltine', 'country': 'td'}, {'name': 'ventspils', 'country': 'lv'}, {'name': 'stoyba', 'country': 'ru'}, {'name': 'chimoio', 'country': 'mz'}, {'name': 'atuona', 'country': 'pf'}, {'name': 'kismayo', 'country': 'so'}, {'name': 'clyde river', 'country': 'ca'}, {'name': 'chagda', 'country': 'ru'}, {'name': 'hofn', 'country': 'is'}, {'name': 'shahrud', 'country': 'ir'}, {'name': 'mahebourg', 'country': 'mu'}, {'name': 'illoqqortoormiut', 'country': 'gl'}, {'name': 'miyang', 'country': 'cn'}, {'name': 'san ignacio', 'country': 'bo'}, {'name': 'luis correia', 'country': 'br'}, {'name': 'naifaru', 'country': 'mv'}, {'name': 'turukhansk', 'country': 'ru'}, {'name': 'ust-kuyga', 'country': 'ru'}, {'name': 'guerrero negro', 'country': 'mx'}, {'name': 'upernavik', 'country': 'gl'}, {'name': 'tyukhtet', 'country': 'ru'}, {'name': 'safford', 'country': 'us'}, {'name': 'cape town', 'country': 'za'}, {'name': 'iqaluit', 'country': 'ca'}, {'name': 'meulaboh', 'country': 'id'}, {'name': 'airai', 'country': 'pw'}, {'name': 'coquimbo', 'country': 'cl'}, {'name': 'souillac', 'country': 'mu'}, {'name': 'binga', 'country': 'cd'}, {'name': 'nanortalik', 'country': 'gl'}, {'name': 'carnarvon', 'country': 'au'}, {'name': 'ewa beach', 'country': 'us'}, {'name': 'acapulco', 'country': 'mx'}, {'name': 'auki', 'country': 'sb'}, {'name': 'zhob', 'country': 'pk'}, {'name': 'tasiilaq', 'country': 'gl'}, {'name': 'pacific grove', 'country': 'us'}, {'name': 'attawapiskat', 'country': 'ca'}, {'name': 'kahului', 'country': 'us'}, {'name': 'avarua', 'country': 'ck'}, {'name': 'venice', 'country': 'us'}, {'name': 'hirara', 'country': 'jp'}, {'name': 'tahta', 'country': 'eg'}, {'name': 'tura', 'country': 'ru'}, {'name': 'atar', 'country': 'mr'}, {'name': 'berkak', 'country': 'no'}, {'name': 'koboldo', 'country': 'ru'}, {'name': 'yar-sale', 'country': 'ru'}, {'name': 'bumbuna', 'country': 'sl'}, {'name': 'khani', 'country': 'ru'}, {'name': 'ust-ishim', 'country': 'ru'}, {'name': 'linjiang', 'country': 'cn'}, {'name': 'lethem', 'country': 'gy'}, {'name': 'roald', 'country': 'no'}, {'name': 'ijuin', 'country': 'jp'}, {'name': 'mount isa', 'country': 'au'}, {'name': 'alghero', 'country': 'it'}, {'name': 'lake havasu city', 'country': 'us'}, {'name': 'iskateley', 'country': 'ru'}, {'name': 'thompson', 'country': 'ca'}, {'name': 'muniz freire', 'country': 'br'}, {'name': 'saint-joseph', 'country': 're'}, {'name': 'marcona', 'country': 'pe'}, {'name': 'saskylakh', 'country': 'ru'}, {'name': 'nyagan', 'country': 'ru'}, {'name': 'dryden', 'country': 'ca'}, {'name': 'kodinsk', 'country': 'ru'}, {'name': 'atasu', 'country': 'kz'}, {'name': 'yarkovo', 'country': 'ru'}, {'name': 'aykhal', 'country': 'ru'}, {'name': 'isangel', 'country': 'vu'}, {'name': 'terrasini', 'country': 'it'}, {'name': 'gamba', 'country': 'ga'}, {'name': 'bredasdorp', 'country': 'za'}, {'name': 'katobu', 'country': 'id'}, {'name': 'santa cruz', 'country': 'cr'}, {'name': 'atambua', 'country': 'id'}, {'name': 'grand river south east', 'country': 'mu'}, {'name': 'san cristobal', 'country': 'ec'}, {'name': 'shenjiamen', 'country': 'cn'}, {'name': 'amderma', 'country': 'ru'}, {'name': 'port lincoln', 'country': 'au'}, {'name': 'nemuro', 'country': 'jp'}, {'name': 'novoagansk', 'country': 'ru'}, {'name': 'lar', 'country': 'ir'}, {'name': 'norman wells', 'country': 'ca'}, {'name': 'kushima', 'country': 'jp'}, {'name': 'aswan', 'country': 'eg'}, {'name': 'longyearbyen', 'country': 'sj'}, {'name': 'zabaykalsk', 'country': 'ru'}, {'name': 'acari', 'country': 'pe'}, {'name': 'paraiso', 'country': 'mx'}, {'name': 'mackay', 'country': 'au'}, {'name': 'honiara', 'country': 'sb'}, {'name': 'tuktoyaktuk', 'country': 'ca'}, {'name': 'lahij', 'country': 'ye'}, {'name': 'eureka', 'country': 'us'}, {'name': 'burgstadt', 'country': 'de'}, {'name': 'himora', 'country': 'et'}, {'name': 'ayaviri', 'country': 'pe'}, {'name': 'jhudo', 'country': 'pk'}, {'name': 'san jeronimo', 'country': 'mx'}, {'name': 'athabasca', 'country': 'ca'}, {'name': 'kadi', 'country': 'in'}, {'name': 'chokurdakh', 'country': 'ru'}, {'name': 'labuhan', 'country': 'id'}, {'name': 'ancud', 'country': 'cl'}, {'name': 'galiwinku', 'country': 'au'}, {'name': 'tarudant', 'country': 'ma'}, {'name': 'huarmey', 'country': 'pe'}, {'name': 'champerico', 'country': 'gt'}, {'name': 'sile', 'country': 'tr'}, {'name': 'san patricio', 'country': 'mx'}, {'name': 'saldanha', 'country': 'za'}, {'name': 'igrim', 'country': 'ru'}, {'name': 'naze', 'country': 'jp'}, {'name': 'haines junction', 'country': 'ca'}, {'name': 'smithers', 'country': 'ca'}, {'name': 'port blair', 'country': 'in'}, {'name': 'sisimiut', 'country': 'gl'}, {'name': 'tigil', 'country': 'ru'}, {'name': 'warqla', 'country': 'dz'}, {'name': 'sentyabrskiy', 'country': 'ru'}, {'name': 'bambous virieux', 'country': 'mu'}, {'name': 'san-pedro', 'country': 'ci'}, {'name': 'yekaterinovka', 'country': 'ru'}, {'name': 'dikson', 'country': 'ru'}, {'name': 'esperance', 'country': 'au'}, {'name': 'belushya guba', 'country': 'ru'}, {'name': 'palarao', 'country': 'ph'}, {'name': 'cedar city', 'country': 'us'}, {'name': 'yeppoon', 'country': 'au'}, {'name': 'williston', 'country': 'us'}, {'name': 'yulara', 'country': 'au'}, {'name': 'popondetta', 'country': 'pg'}, {'name': 'vanavara', 'country': 'ru'}, {'name': 'urumqi', 'country': 'cn'}, {'name': 'wulanhaote', 'country': 'cn'}, {'name': 'dianopolis', 'country': 'br'}, {'name': 'artyk', 'country': 'ru'}, {'name': 'half moon bay', 'country': 'us'}, {'name': 'kano', 'country': 'ng'}, {'name': 'mitsamiouli', 'country': 'km'}, {'name': 'kargasok', 'country': 'ru'}, {'name': 'sur', 'country': 'om'}, {'name': 'constitucion', 'country': 'mx'}, {'name': 'lorengau', 'country': 'pg'}, {'name': 'banda aceh', 'country': 'id'}, {'name': 'tonantins', 'country': 'br'}, {'name': 'anadyr', 'country': 'ru'}, {'name': 'san felipe', 'country': 'mx'}, {'name': 'havre-saint-pierre', 'country': 'ca'}, {'name': 'sao jose da coroa grande', 'country': 'br'}, {'name': 'altagracia de orituco', 'country': 've'}, {'name': 'padang', 'country': 'id'}, {'name': 'kununurra', 'country': 'au'}, {'name': 'kortkeros', 'country': 'ru'}, {'name': 'caravelas', 'country': 'br'}, {'name': 'marystown', 'country': 'ca'}, {'name': 'yanggu', 'country': 'cn'}, {'name': 'skage', 'country': 'no'}, {'name': 'anloga', 'country': 'gh'}, {'name': 'chany', 'country': 'ru'}, {'name': 'gwadar', 'country': 'pk'}, {'name': 'hithadhoo', 'country': 'mv'}, {'name': 'rio grande', 'country': 'br'}, {'name': 'bubaque', 'country': 'gw'}, {'name': 'viligili', 'country': 'mv'}, {'name': 'richards bay', 'country': 'za'}, {'name': 'ylivieska', 'country': 'fi'}, {'name': 'moron', 'country': 'mn'}, {'name': 'barao de melgaco', 'country': 'br'}, {'name': 'staryy nadym', 'country': 'ru'}, {'name': 'ampanihy', 'country': 'mg'}, {'name': 'jabiru', 'country': 'au'}, {'name': 'vallenar', 'country': 'cl'}, {'name': 'cururupu', 'country': 'br'}, {'name': 'gardan diwal', 'country': 'af'}, {'name': 'agua verde', 'country': 'mx'}, {'name': 'hamilton', 'country': 'bm'}, {'name': 'sri aman', 'country': 'my'}, {'name': 'lipetsk', 'country': 'ru'}, {'name': 'jurm', 'country': 'af'}, {'name': 'riyadh', 'country': 'sa'}, {'name': 'aitape', 'country': 'pg'}, {'name': 'ayagoz', 'country': 'kz'}, {'name': 'danville', 'country': 'us'}, {'name': 'katherine', 'country': 'au'}, {'name': 'yarovoye', 'country': 'ru'}, {'name': 'taquari', 'country': 'br'}, {'name': 'severo-kurilsk', 'country': 'ru'}, {'name': 'bud', 'country': 'no'}, {'name': 'rivadavia', 'country': 'ar'}, {'name': 'vostok', 'country': 'ru'}, {'name': 'imperial', 'country': 'us'}, {'name': 'kamenskoye', 'country': 'ru'}, {'name': 'mpika', 'country': 'zm'}, {'name': 'broken hill', 'country': 'au'}, {'name': 'rajapur', 'country': 'in'}, {'name': 'kouango', 'country': 'cf'}, {'name': 'kempsey', 'country': 'au'}, {'name': 'fort nelson', 'country': 'ca'}, {'name': 'inirida', 'country': 'co'}, {'name': 'olafsvik', 'country': 'is'}, {'name': 'klaksvik', 'country': 'fo'}, {'name': 'craig', 'country': 'us'}, {'name': 'katsuura', 'country': 'jp'}, {'name': 'dingle', 'country': 'ie'}, {'name': 'bac lieu', 'country': 'vn'}, {'name': 'ruidoso', 'country': 'us'}, {'name': 'dogondoutchi', 'country': 'ne'}, {'name': 'strezhevoy', 'country': 'ru'}, {'name': 'namibe', 'country': 'ao'}, {'name': 'pangnirtung', 'country': 'ca'}, {'name': 'portland', 'country': 'au'}, {'name': 'sumenep', 'country': 'id'}, {'name': 'quatre cocos', 'country': 'mu'}, {'name': 'augusto correa', 'country': 'br'}, {'name': 'kayes', 'country': 'ml'}, {'name': 'saint-philippe', 'country': 're'}, {'name': 'buraydah', 'country': 'sa'}, {'name': 'limbang', 'country': 'my'}, {'name': 'manaure', 'country': 'co'}, {'name': 'okato', 'country': 'nz'}, {'name': 'bathsheba', 'country': 'bb'}, {'name': 'namatanai', 'country': 'pg'}, {'name': 'timmins', 'country': 'ca'}, {'name': 'marsa matruh', 'country': 'eg'}, {'name': 'ambon', 'country': 'id'}, {'name': 'poum', 'country': 'nc'}, {'name': 'ligayan', 'country': 'ph'}, {'name': 'tammisaari', 'country': 'fi'}, {'name': 'libreville', 'country': 'ga'}, {'name': 'cabedelo', 'country': 'br'}, {'name': 'la cumbre', 'country': 'co'}, {'name': 'kavaratti', 'country': 'in'}, {'name': 'cambridge', 'country': 'us'}, {'name': 'breves', 'country': 'br'}, {'name': 'chuy', 'country': 'uy'}, {'name': 'kajiado', 'country': 'ke'}, {'name': 'nizhneyansk', 'country': 'ru'}, {'name': 'kruisfontein', 'country': 'za'}, {'name': 'la cruz', 'country': 'mx'}, {'name': 'hashtrud', 'country': 'ir'}, {'name': 'hami', 'country': 'cn'}, {'name': 'henties bay', 'country': 'na'}, {'name': 'ponta do sol', 'country': 'cv'}, {'name': 'leshukonskoye', 'country': 'ru'}, {'name': 'yaan', 'country': 'cn'}, {'name': 'lodja', 'country': 'cd'}, {'name': 'ahipara', 'country': 'nz'}, {'name': 'dargaville', 'country': 'nz'}, {'name': 'nizhniy odes', 'country': 'ru'}, {'name': 'tsihombe', 'country': 'mg'}, {'name': 'tumannyy', 'country': 'ru'}, {'name': 'fortuna', 'country': 'us'}, {'name': 'tianpeng', 'country': 'cn'}, {'name': 'scottsbluff', 'country': 'us'}, {'name': 'avera', 'country': 'pf'}, {'name': 'nyurba', 'country': 'ru'}, {'name': 'rio branco', 'country': 'br'}, {'name': 'tabas', 'country': 'ir'}, {'name': 'verkh-usugli', 'country': 'ru'}, {'name': 'rocha', 'country': 'uy'}, {'name': 'amazar', 'country': 'ru'}, {'name': 'saleaula', 'country': 'ws'}, {'name': 'roswell', 'country': 'us'}, {'name': 'cockburn town', 'country': 'bs'}, {'name': 'juneau', 'country': 'us'}, {'name': 'malinovskiy', 'country': 'ru'}, {'name': 'palana', 'country': 'ru'}, {'name': 'berezniki', 'country': 'ru'}, {'name': 'cairns', 'country': 'au'}, {'name': 'gurskoye', 'country': 'ru'}, {'name': 'bonthe', 'country': 'sl'}, {'name': 'lata', 'country': 'sb'}, {'name': 'cidreira', 'country': 'br'}, {'name': 'otradnoye', 'country': 'ru'}, {'name': 'mount gambier', 'country': 'au'}, {'name': 'sandila', 'country': 'in'}, {'name': 'havoysund', 'country': 'no'}, {'name': 'bur gabo', 'country': 'so'}, {'name': 'noumea', 'country': 'nc'}, {'name': 'harwich', 'country': 'us'}, {'name': 'barbar', 'country': 'sd'}, {'name': 'lavrentiya', 'country': 'ru'}, {'name': 'whitehorse', 'country': 'ca'}, {'name': 'bassar', 'country': 'tg'}, {'name': 'samarai', 'country': 'pg'}, {'name': 'lima', 'country': 'pe'}, {'name': 'haibowan', 'country': 'cn'}, {'name': 'sola', 'country': 'vu'}, {'name': 'sorong', 'country': 'id'}, {'name': 'puerto escondido', 'country': 'mx'}, {'name': 'ikorodu', 'country': 'ng'}, {'name': 'charters towers', 'country': 'au'}, {'name': 'dzerzhinsk', 'country': 'by'}, {'name': 'benicarlo', 'country': 'es'}, {'name': 'chino valley', 'country': 'us'}, {'name': 'sangueya', 'country': 'gn'}, {'name': 'gat', 'country': 'ly'}, {'name': 'sarahan', 'country': 'in'}, {'name': 'talcahuano', 'country': 'cl'}, {'name': 'zhanaozen', 'country': 'kz'}, {'name': 'kalmunai', 'country': 'lk'}, {'name': 'karakose', 'country': 'tr'}, {'name': 'ibotirama', 'country': 'br'}, {'name': 'vitimskiy', 'country': 'ru'}, {'name': 'nizhniy kuranakh', 'country': 'ru'}, {'name': 'katangli', 'country': 'ru'}, {'name': 'midland', 'country': 'ca'}, {'name': 'doctor pedro p. pena', 'country': 'py'}, {'name': 'bandarbeyla', 'country': 'so'}, {'name': 'liverpool', 'country': 'ca'}, {'name': 'raudeberg', 'country': 'no'}, {'name': 'nandurbar', 'country': 'in'}, {'name': 'sterling', 'country': 'us'}, {'name': 'kungurtug', 'country': 'ru'}, {'name': 'hit', 'country': 'iq'}, {'name': 'tournon-sur-rhone', 'country': 'fr'}, {'name': 'oistins', 'country': 'bb'}, {'name': 'tasbuget', 'country': 'kz'}, {'name': 'goderich', 'country': 'sl'}, {'name': 'okhotsk', 'country': 'ru'}, {'name': 'gosainganj', 'country': 'in'}, {'name': 'kuching', 'country': 'my'}, {'name': 'bessonovka', 'country': 'ru'}, {'name': 'ambanja', 'country': 'mg'}, {'name': 'umba', 'country': 'ru'}, {'name': 'aginskoye', 'country': 'ru'}, {'name': 'hervey bay', 'country': 'au'}, {'name': 'sinkat', 'country': 'sd'}, {'name': 'honningsvag', 'country': 'no'}, {'name': 'ponta do sol', 'country': 'pt'}, {'name': 'gorontalo', 'country': 'id'}, {'name': 'west plains', 'country': 'us'}, {'name': 'dunedin', 'country': 'nz'}, {'name': 'tineo', 'country': 'es'}, {'name': 'northam', 'country': 'au'}, {'name': 'nome', 'country': 'us'}, {'name': 'vila', 'country': 'vu'}, {'name': 'kazalinsk', 'country': 'kz'}, {'name': 'burica', 'country': 'pa'}, {'name': 'dolbeau', 'country': 'ca'}, {'name': 'fevralsk', 'country': 'ru'}, {'name': 'caorle', 'country': 'it'}, {'name': 'blythe', 'country': 'us'}, {'name': 'angoche', 'country': 'mz'}, {'name': 'geraldton', 'country': 'ca'}, {'name': 'ambilobe', 'country': 'mg'}, {'name': 'cockburn harbour', 'country': 'tc'}, {'name': 'vao', 'country': 'nc'}, {'name': 'channel-port aux basques', 'country': 'ca'}, {'name': 'yima', 'country': 'cn'}, {'name': 'dafeng', 'country': 'cn'}, {'name': 'nefteyugansk', 'country': 'ru'}, {'name': 'luderitz', 'country': 'na'}, {'name': 'grand forks', 'country': 'us'}, {'name': 'ames', 'country': 'es'}, {'name': 'akcaabat', 'country': 'tr'}, {'name': 'pisco', 'country': 'pe'}, {'name': 'jujuy', 'country': 'ar'}, {'name': 'rawson', 'country': 'ar'}, {'name': 'mill valley', 'country': 'us'}, {'name': 'hay river', 'country': 'ca'}, {'name': 'lompoc', 'country': 'us'}, {'name': 'chernyshevskiy', 'country': 'ru'}, {'name': 'esperantina', 'country': 'br'}, {'name': 'filadelfia', 'country': 'py'}, {'name': 'zaltan', 'country': 'ly'}, {'name': 'nijar', 'country': 'es'}, {'name': 'biak', 'country': 'id'}, {'name': 'la rioja', 'country': 'ar'}, {'name': 'santa maria del oro', 'country': 'mx'}, {'name': 'phrai bung', 'country': 'th'}, {'name': 'verkhoyansk', 'country': 'ru'}, {'name': 'yen bai', 'country': 'vn'}, {'name': 'loikaw', 'country': 'mm'}, {'name': 'jinka', 'country': 'et'}, {'name': 'apolda', 'country': 'de'}, {'name': 'maniitsoq', 'country': 'gl'}, {'name': 'palabuhanratu', 'country': 'id'}, {'name': 'itarema', 'country': 'br'}, {'name': 'puerto gaitan', 'country': 'co'}, {'name': 'pestravka', 'country': 'ru'}, {'name': 'nador', 'country': 'ma'}, {'name': 'seoul', 'country': 'kr'}, {'name': 'lasa', 'country': 'cn'}, {'name': 'scarborough', 'country': 'tt'}, {'name': 'kainantu', 'country': 'pg'}, {'name': 'kalabo', 'country': 'zm'}, {'name': 'akdepe', 'country': 'tm'}, {'name': 'faleula', 'country': 'ws'}, {'name': 'pizarro', 'country': 'co'}, {'name': 'lagoa', 'country': 'pt'}, {'name': 'nishihara', 'country': 'jp'}, {'name': 'bermejo', 'country': 'bo'}, {'name': 'vieques', 'country': 'us'}, {'name': 'zemio', 'country': 'cf'}, {'name': 'balud', 'country': 'ph'}, {'name': 'rapid valley', 'country': 'us'}, {'name': 'pierre', 'country': 'us'}, {'name': 'sahrak', 'country': 'af'}, {'name': 'shahreza', 'country': 'ir'}, {'name': 'deputatskiy', 'country': 'ru'}, {'name': 'oyem', 'country': 'ga'}, {'name': 'zyryanka', 'country': 'ru'}, {'name': 'obo', 'country': 'cf'}, {'name': 'upata', 'country': 've'}, {'name': 'dwarka', 'country': 'in'}, {'name': 'ilulissat', 'country': 'gl'}, {'name': 'bilibino', 'country': 'ru'}, {'name': 'khonuu', 'country': 'ru'}, {'name': 'tessalit', 'country': 'ml'}, {'name': 'sabang', 'country': 'id'}, {'name': 'katha', 'country': 'mm'}, {'name': 'takoradi', 'country': 'gh'}, {'name': 'westport', 'country': 'ie'}, {'name': 'dindori', 'country': 'in'}, {'name': 'paamiut', 'country': 'gl'}, {'name': 'hendijan', 'country': 'ir'}, {'name': 'mzimba', 'country': 'mw'}, {'name': 'warwick', 'country': 'au'}, {'name': 'porto nacional', 'country': 'br'}, {'name': 'marica', 'country': 'br'}, {'name': 'ballina', 'country': 'au'}, {'name': 'halifax', 'country': 'ca'}, {'name': 'bolungarvik', 'country': 'is'}, {'name': 'shangrao', 'country': 'cn'}, {'name': 'tekkalakota', 'country': 'in'}, {'name': 'yaring', 'country': 'th'}, {'name': 'tongliao', 'country': 'cn'}, {'name': 'mishan', 'country': 'cn'}, {'name': 'southbury', 'country': 'us'}, {'name': 'petropavlovsk-kamchatskiy', 'country': 'ru'}, {'name': 'nagato', 'country': 'jp'}, {'name': 'yumen', 'country': 'cn'}, {'name': 'tonekabon', 'country': 'ir'}, {'name': 'chapada dos guimaraes', 'country': 'br'}, {'name': 'umm durman', 'country': 'sd'}, {'name': 'doha', 'country': 'kw'}, {'name': 'cabo san lucas', 'country': 'mx'}, {'name': 'hualmay', 'country': 'pe'}, {'name': 'maykain', 'country': 'kz'}, {'name': 'vila velha', 'country': 'br'}, {'name': 'yagoua', 'country': 'cm'}, {'name': 'sorland', 'country': 'no'}, {'name': 'raichur', 'country': 'in'}, {'name': 'lewiston', 'country': 'us'}, {'name': 'saint-georges', 'country': 'gf'}, {'name': 'porto novo', 'country': 'cv'}, {'name': 'san angelo', 'country': 'us'}, {'name': 'yuma', 'country': 'us'}, {'name': 'swan river', 'country': 'ca'}, {'name': 'ixtapa', 'country': 'mx'}, {'name': 'kloulklubed', 'country': 'pw'}, {'name': 'pinawa', 'country': 'ca'}, {'name': 'aksu', 'country': 'cn'}, {'name': 'unai', 'country': 'br'}, {'name': 'kadiri', 'country': 'in'}, {'name': 'parintins', 'country': 'br'}, {'name': 'kemijarvi', 'country': 'fi'}, {'name': 'kantunilkin', 'country': 'mx'}, {'name': 'tilichiki', 'country': 'ru'}, {'name': 'ulladulla', 'country': 'au'}, {'name': 'aksarka', 'country': 'ru'}, {'name': 'hambantota', 'country': 'lk'}, {'name': 'azar shahr', 'country': 'ir'}, {'name': 'suluktu', 'country': 'kg'}, {'name': 'ukiah', 'country': 'us'}, {'name': 'tomatlan', 'country': 'mx'}, {'name': 'marrakesh', 'country': 'ma'}, {'name': 'camopi', 'country': 'gf'}, {'name': 'alofi', 'country': 'nu'}, {'name': 'vilshofen', 'country': 'de'}, {'name': 'surin', 'country': 'th'}, {'name': 'zhigansk', 'country': 'ru'}, {'name': 'narsaq', 'country': 'gl'}, {'name': 'beringovskiy', 'country': 'ru'}, {'name': 'montepuez', 'country': 'mz'}, {'name': 'port arthur', 'country': 'us'}, {'name': 'chimore', 'country': 'bo'}, {'name': 'gympie', 'country': 'au'}, {'name': 'normandin', 'country': 'ca'}, {'name': 'solnechnyy', 'country': 'ru'}, {'name': 'bayanday', 'country': 'ru'}, {'name': 'owensboro', 'country': 'us'}, {'name': 'khasan', 'country': 'ru'}, {'name': 'miandrivazo', 'country': 'mg'}, {'name': 'bereda', 'country': 'so'}, {'name': 'puri', 'country': 'in'}, {'name': 'cabano', 'country': 'ca'}, {'name': 'hamilton', 'country': 'au'}, {'name': 'tyubuk', 'country': 'ru'}, {'name': 'seminole', 'country': 'us'}, {'name': 'blagoveshchenka', 'country': 'ru'}, {'name': 'kadykchan', 'country': 'ru'}, {'name': 'llangefni', 'country': 'gb'}, {'name': 'flinders', 'country': 'au'}, {'name': 'karachi', 'country': 'pk'}, {'name': 'krasnyy chikoy', 'country': 'ru'}, {'name': 'itau de minas', 'country': 'br'}, {'name': 'batemans bay', 'country': 'au'}, {'name': 'isla mujeres', 'country': 'mx'}, {'name': 'tecoanapa', 'country': 'mx'}, {'name': 'valer', 'country': 'no'}, {'name': 'banamba', 'country': 'ml'}, {'name': 'morgan hill', 'country': 'us'}, {'name': 'nombre de dios', 'country': 'mx'}, {'name': 'alyangula', 'country': 'au'}, {'name': 'potsdam', 'country': 'us'}, {'name': 'puksoozero', 'country': 'ru'}, {'name': 'san antonio', 'country': 'cl'}, {'name': 'hegang', 'country': 'cn'}, {'name': 'nosy varika', 'country': 'mg'}, {'name': 'umm lajj', 'country': 'sa'}, {'name': 'hauterive', 'country': 'ca'}, {'name': 'vermillion', 'country': 'us'}, {'name': 'sierra vista', 'country': 'us'}, {'name': 'vila franca do campo', 'country': 'pt'}, {'name': 'malakal', 'country': 'sd'}, {'name': 'murray bridge', 'country': 'au'}, {'name': 'manicore', 'country': 'br'}, {'name': 'soyo', 'country': 'ao'}, {'name': 'sinnamary', 'country': 'gf'}, {'name': 'port hardy', 'country': 'ca'}, {'name': 'pascagoula', 'country': 'us'}, {'name': 'waddan', 'country': 'ly'}, {'name': 'vetlanda', 'country': 'se'}, {'name': 'cayenne', 'country': 'gf'}, {'name': 'ocos', 'country': 'gt'}, {'name': 'buala', 'country': 'sb'}, {'name': 'walvis bay', 'country': 'na'}, {'name': 'ibra', 'country': 'om'}, {'name': 'verkhnevilyuysk', 'country': 'ru'}, {'name': 'abu samrah', 'country': 'qa'}, {'name': 'puerto del rosario', 'country': 'es'}, {'name': 'sao joao da barra', 'country': 'br'}, {'name': 'ondangwa', 'country': 'na'}, {'name': 'qaqortoq', 'country': 'gl'}, {'name': 'grand gaube', 'country': 'mu'}, {'name': 'albanel', 'country': 'ca'}, {'name': 'maputo', 'country': 'mz'}, {'name': 'belawan', 'country': 'id'}, {'name': 'umzimvubu', 'country': 'za'}, {'name': 'rognan', 'country': 'no'}, {'name': 'kangaatsiaq', 'country': 'gl'}, {'name': 'karamea', 'country': 'nz'}, {'name': 'malangali', 'country': 'tz'}, {'name': 'ambodifototra', 'country': 'mg'}, {'name': 'chaihe', 'country': 'cn'}, {'name': 'bengkulu', 'country': 'id'}, {'name': 'viransehir', 'country': 'tr'}, {'name': 'mulanje', 'country': 'mw'}, {'name': 'ust-tsilma', 'country': 'ru'}, {'name': 'wufeng', 'country': 'cn'}, {'name': 'niquero', 'country': 'cu'}, {'name': 'coihaique', 'country': 'cl'}, {'name': 'jutai', 'country': 'br'}, {'name': 'margate', 'country': 'za'}, {'name': 'babanusah', 'country': 'sd'}, {'name': 'koregaon', 'country': 'in'}, {'name': 'bosaso', 'country': 'so'}, {'name': 'trairi', 'country': 'br'}, {'name': 'tralee', 'country': 'ie'}, {'name': 'aratos', 'country': 'gr'}, {'name': 'la asuncion', 'country': 've'}, {'name': 'westport', 'country': 'nz'}, {'name': 'floro', 'country': 'no'}, {'name': 'colac', 'country': 'au'}, {'name': 'saint charles', 'country': 'us'}, {'name': 'pustoshka', 'country': 'ru'}, {'name': 'balkanabat', 'country': 'tm'}, {'name': 'buckeye', 'country': 'us'}, {'name': 'sinazongwe', 'country': 'zm'}, {'name': 'umm kaddadah', 'country': 'sd'}, {'name': 'bonavista', 'country': 'ca'}, {'name': 'karratha', 'country': 'au'}, {'name': 'sitka', 'country': 'us'}, {'name': 'yunjinghong', 'country': 'cn'}, {'name': 'corinto', 'country': 'ni'}, {'name': 'calella', 'country': 'es'}, {'name': 'yei', 'country': 'sd'}, {'name': 'gongzhuling', 'country': 'cn'}, {'name': 'alanya', 'country': 'tr'}, {'name': 'salalah', 'country': 'om'}, {'name': 'sabzevar', 'country': 'ir'}, {'name': 'leh', 'country': 'in'}, {'name': 'pula', 'country': 'hr'}, {'name': 'vardo', 'country': 'no'}, {'name': 'lufilufi', 'country': 'ws'}, {'name': 'fare', 'country': 'pf'}, {'name': 'lewistown', 'country': 'us'}, {'name': 'rungata', 'country': 'ki'}, {'name': 'grindavik', 'country': 'is'}, {'name': 'medea', 'country': 'dz'}, {'name': 'trincomalee', 'country': 'lk'}, {'name': 'corum', 'country': 'tr'}, {'name': 'pemba', 'country': 'mz'}, {'name': 'kwinana', 'country': 'au'}, {'name': 'kutum', 'country': 'sd'}, {'name': 'higuey', 'country': 'do'}, {'name': 'eyrarbakki', 'country': 'is'}, {'name': 'ksenyevka', 'country': 'ru'}, {'name': 'chara', 'country': 'ru'}, {'name': 'baicheng', 'country': 'cn'}, {'name': 'makokou', 'country': 'ga'}, {'name': 'sokoto', 'country': 'ng'}, {'name': 'bowen', 'country': 'au'}, {'name': 'hanting', 'country': 'cn'}, {'name': 'uruzgan', 'country': 'af'}, {'name': 'svetlogorsk', 'country': 'ru'}, {'name': 'mingaora', 'country': 'pk'}, {'name': 'tabou', 'country': 'ci'}, {'name': 'esil', 'country': 'kz'}, {'name': 'tigre', 'country': 'pa'}, {'name': 'hearst', 'country': 'ca'}, {'name': 'helena', 'country': 'us'}, {'name': 'mehamn', 'country': 'no'}, {'name': 'acarau', 'country': 'br'}, {'name': 'alabaster', 'country': 'us'}, {'name': 'chuka', 'country': 'ke'}, {'name': 'tornio', 'country': 'fi'}, {'name': 'mingshui', 'country': 'cn'}, {'name': 'maple creek', 'country': 'ca'}, {'name': 'gawler', 'country': 'au'}, {'name': 'los llanos de aridane', 'country': 'es'}, {'name': 'mosquera', 'country': 'co'}, {'name': 'tanjong karang', 'country': 'my'}, {'name': 'churapcha', 'country': 'ru'}, {'name': 'brae', 'country': 'gb'}]\n"
     ]
    }
   ],
   "source": [
    "print(cities)"
   ]
  },
  {
   "cell_type": "markdown",
   "metadata": {},
   "source": [
    "### Perform API Calls\n",
    "* Perform a weather check on each city using a series of successive API calls.\n",
    "* Include a print log of each city as it'sbeing processed (with the city number and city name).\n"
   ]
  },
  {
   "cell_type": "code",
   "execution_count": 4,
   "metadata": {
    "scrolled": true
   },
   "outputs": [
    {
     "name": "stdout",
     "output_type": "stream",
     "text": [
      "Retrieved data for 0-Mana, GF (5.66,-53.78)\n",
      "Retrieved data for 1-Barrow, US (71.29,-156.79)\n",
      "Retrieved data for 2-Catherinas Lust, GY (6.4,-57.6)\n",
      "Retrieved data for 3-Te Anau, NZ (-45.42,167.72)\n",
      "Retrieved data for 4-Geraldton, AU (-28.77,114.6)\n",
      "Retrieved data for 5-Fairbanks, US (64.84,-147.72)\n",
      "Retrieved data for 6-Punta Arenas, CL (-53.15,-70.92)\n",
      "Retrieved data for 7-Jamestown, SH (-15.94,-5.72)\n",
      "Retrieved data for 8-Pevek, RU (69.7,170.31)\n",
      "Retrieved data for 9-East London, ZA (-33.02,27.91)\n",
      "Retrieved data for 10-Qaanaaq, GL (77.48,-69.36)\n",
      "Retrieved data for 11-Hasaki, JP (35.73,140.83)\n",
      "Retrieved data for 12-Vaini, TO (-21.2,-175.2)\n",
      "Retrieved data for 13-Mar del Plata, AR (-38,-57.56)\n",
      "Retrieved data for 14-Marabá, BR (-5.37,-49.12)\n",
      "Retrieved data for 15-Faanui, PF (-16.48,-151.75)\n",
      "Retrieved data for 16-Rehoboth, NA (-23.32,17.08)\n",
      "Retrieved data for 17-Bluff, NZ (-46.6,168.33)\n",
      "Retrieved data for 18-Bogotol, RU (56.21,89.53)\n",
      "Retrieved data for 19-Leningradskiy, RU (69.38,178.42)\n",
      "Retrieved data for 20-Inongo, CD (-1.95,18.27)\n",
      "Retrieved data for 21-Port Elizabeth, ZA (-33.92,25.57)\n",
      "Retrieved data for 22-Camocim, BR (-2.9,-40.84)\n",
      "Retrieved data for 23-Makkah al Mukarramah, SA (21.43,39.83)\n",
      "Retrieved data for 24-Lebu, CL (-37.62,-73.65)\n",
      "Retrieved data for 25-Albany, AU (-35.02,117.89)\n",
      "Retrieved data for 26-Turangi, NZ (-39,175.93)\n",
      "Retrieved data for 27-Qeshm, IR (26.96,56.27)\n",
      "Retrieved data for 28-New Norfolk, AU (-42.78,147.06)\n",
      "Retrieved data for 29-Komsomol'skiy, RU (43.98,46.7)\n",
      "Retrieved data for 30-Ajdabiya, LY (30.76,20.23)\n",
      "Retrieved data for 31-Mikhaylovka, KZ (43,71.5)\n",
      "Retrieved data for 32-Port-Gentil, GA (-0.72,8.78)\n",
      "Retrieved data for 33-Windhoek, NA (-22.56,17.08)\n",
      "Retrieved data for 34-Xining, CN (36.62,101.77)\n",
      "Retrieved data for 35-San Ramón, BO (-13.28,-64.72)\n",
      "Retrieved data for 36-Comodoro Rivadavia, AR (-45.87,-67.5)\n",
      "Retrieved data for 37-Beira, MZ (-19.84,34.84)\n",
      "Retrieved data for 38-Rikitea, PF (-23.12,-134.97)\n",
      "Retrieved data for 39-Saint George, BM (32.38,-64.68)\n"
     ]
    }
   ],
   "source": [
    "base_url = \"http://api.openweathermap.org/data/2.5/weather?\"\n",
    "units = \"imperial\"\n",
    "city_id = []\n",
    "city_name = []\n",
    "city_cloudiness = []\n",
    "city_country = []\n",
    "city_date = []\n",
    "city_humidity = []\n",
    "city_latitude = []\n",
    "city_longitude = []\n",
    "city_temperature = []\n",
    "city_wind_speed = []\n",
    "\n",
    "\n",
    "# Build partial query URL\n",
    "query_url = f\"{base_url}appid={g_key}&units={units}&q=\"\n",
    "\n",
    "city_cntr = -1\n",
    "no_cities_to_retrieve = 40\n",
    "\n",
    "\n",
    "# Loop through cities\n",
    "for index, city in enumerate(cities):\n",
    "    # See if we need to sleep so we don't go over our 60 a minute max for the api\n",
    "    q, mod = divmod(index+1,55)\n",
    "    if mod == 0:\n",
    "        print(\"Pausing for a minute so we don't over the api calls per minute limit!\")\n",
    "        time.sleep(60)\n",
    "    \n",
    "    \n",
    "    \n",
    "    # Retrieve data information\n",
    "    try:\n",
    "        city_json = requests.get(query_url + city['name'] + ', ' + city['country']).json()\n",
    "    except:\n",
    "        print(f\"City not found - {city['name']}, {city['country']} - skipping\")\n",
    "\n",
    "    if city_json['cod'] == 200:\n",
    "        city_cntr += 1\n",
    "        print(f\"Retrieved data for {city_cntr}-{city_json['name']}, {city_json['sys']['country']} ({city_json['coord']['lat']},{city_json['coord']['lon']})\")\n",
    "        \n",
    "        city_id.append(city_cntr)\n",
    "        city_name.append(city_json['name'])\n",
    "        city_cloudiness.append(city_json['clouds']['all'])\n",
    "        city_country.append(city_json['sys']['country'])\n",
    "        city_date.append(city_json['dt'])\n",
    "        city_humidity.append(city_json['main']['humidity'])\n",
    "        city_latitude.append(city_json['coord']['lat'])\n",
    "        city_longitude.append(city_json['coord']['lon'])\n",
    "        city_temperature.append(city_json['main']['temp_max'])              \n",
    "        city_wind_speed.append(city_json['wind']['speed'])\n",
    "    \n",
    "    if city_cntr+1 == no_cities_to_retrieve:\n",
    "        break\n",
    "    \n",
    "          "
   ]
  },
  {
   "cell_type": "markdown",
   "metadata": {},
   "source": [
    "### Convert Raw Data to DataFrame\n",
    "* Export the city data into a .csv.\n",
    "* Display the DataFrame"
   ]
  },
  {
   "cell_type": "code",
   "execution_count": 5,
   "metadata": {},
   "outputs": [],
   "source": [
    "# Create a DataFrame with the following columns:\n",
    "# City_ID,City,Cloudiness,Country,Date,Humidity,Lat,Lng,Max Temp,Wind Speed\n",
    "city_data = {\n",
    "             \"City ID\": city_id,\n",
    "             \"City\": city_name,\n",
    "             \"Cloudiness\": city_cloudiness,\n",
    "             \"Country\": city_country,    \n",
    "             \"Date\": city_date,\n",
    "             \"Humidity\": city_humidity,\n",
    "             \"Lat\": city_latitude,\n",
    "             \"Lng\": city_longitude,\n",
    "             \"Max Temp\": city_temperature,\n",
    "             \"Wind Speed\": city_wind_speed\n",
    "            }\n",
    "\n",
    "city_df = pd.DataFrame(city_data)\n",
    "city_df.set_index('City ID', inplace = True)\n",
    "\n",
    "# Write the cities.csv file\n",
    "csv_file_name = \"../output_data/cities.csv\"\n",
    "\n",
    "city_df.to_csv(csv_file_name)"
   ]
  },
  {
   "cell_type": "markdown",
   "metadata": {},
   "source": [
    "## Inspect the data and remove the cities where the humidity > 100%.\n",
    "----\n",
    "Skip this step if there are no cities that have humidity > 100%. "
   ]
  },
  {
   "cell_type": "code",
   "execution_count": 6,
   "metadata": {},
   "outputs": [
    {
     "data": {
      "text/html": [
       "<div>\n",
       "<style scoped>\n",
       "    .dataframe tbody tr th:only-of-type {\n",
       "        vertical-align: middle;\n",
       "    }\n",
       "\n",
       "    .dataframe tbody tr th {\n",
       "        vertical-align: top;\n",
       "    }\n",
       "\n",
       "    .dataframe thead th {\n",
       "        text-align: right;\n",
       "    }\n",
       "</style>\n",
       "<table border=\"1\" class=\"dataframe\">\n",
       "  <thead>\n",
       "    <tr style=\"text-align: right;\">\n",
       "      <th></th>\n",
       "      <th>City</th>\n",
       "      <th>Cloudiness</th>\n",
       "      <th>Country</th>\n",
       "      <th>Date</th>\n",
       "      <th>Humidity</th>\n",
       "      <th>Lat</th>\n",
       "      <th>Lng</th>\n",
       "      <th>Max Temp</th>\n",
       "      <th>Wind Speed</th>\n",
       "    </tr>\n",
       "    <tr>\n",
       "      <th>City ID</th>\n",
       "      <th></th>\n",
       "      <th></th>\n",
       "      <th></th>\n",
       "      <th></th>\n",
       "      <th></th>\n",
       "      <th></th>\n",
       "      <th></th>\n",
       "      <th></th>\n",
       "      <th></th>\n",
       "    </tr>\n",
       "  </thead>\n",
       "  <tbody>\n",
       "    <tr>\n",
       "      <th>0</th>\n",
       "      <td>Mana</td>\n",
       "      <td>0</td>\n",
       "      <td>GF</td>\n",
       "      <td>1603047108</td>\n",
       "      <td>64</td>\n",
       "      <td>5.66</td>\n",
       "      <td>-53.78</td>\n",
       "      <td>86.45</td>\n",
       "      <td>10.25</td>\n",
       "    </tr>\n",
       "    <tr>\n",
       "      <th>1</th>\n",
       "      <td>Barrow</td>\n",
       "      <td>1</td>\n",
       "      <td>US</td>\n",
       "      <td>1603046854</td>\n",
       "      <td>79</td>\n",
       "      <td>71.29</td>\n",
       "      <td>-156.79</td>\n",
       "      <td>21.20</td>\n",
       "      <td>16.11</td>\n",
       "    </tr>\n",
       "    <tr>\n",
       "      <th>2</th>\n",
       "      <td>Catherinas Lust</td>\n",
       "      <td>87</td>\n",
       "      <td>GY</td>\n",
       "      <td>1603047108</td>\n",
       "      <td>64</td>\n",
       "      <td>6.40</td>\n",
       "      <td>-57.60</td>\n",
       "      <td>86.34</td>\n",
       "      <td>8.68</td>\n",
       "    </tr>\n",
       "    <tr>\n",
       "      <th>3</th>\n",
       "      <td>Te Anau</td>\n",
       "      <td>100</td>\n",
       "      <td>NZ</td>\n",
       "      <td>1603047056</td>\n",
       "      <td>92</td>\n",
       "      <td>-45.42</td>\n",
       "      <td>167.72</td>\n",
       "      <td>44.08</td>\n",
       "      <td>1.32</td>\n",
       "    </tr>\n",
       "    <tr>\n",
       "      <th>4</th>\n",
       "      <td>Geraldton</td>\n",
       "      <td>0</td>\n",
       "      <td>AU</td>\n",
       "      <td>1603047108</td>\n",
       "      <td>87</td>\n",
       "      <td>-28.77</td>\n",
       "      <td>114.60</td>\n",
       "      <td>55.40</td>\n",
       "      <td>11.92</td>\n",
       "    </tr>\n",
       "    <tr>\n",
       "      <th>5</th>\n",
       "      <td>Fairbanks</td>\n",
       "      <td>75</td>\n",
       "      <td>US</td>\n",
       "      <td>1603047108</td>\n",
       "      <td>78</td>\n",
       "      <td>64.84</td>\n",
       "      <td>-147.72</td>\n",
       "      <td>12.20</td>\n",
       "      <td>1.14</td>\n",
       "    </tr>\n",
       "    <tr>\n",
       "      <th>6</th>\n",
       "      <td>Punta Arenas</td>\n",
       "      <td>75</td>\n",
       "      <td>CL</td>\n",
       "      <td>1603047032</td>\n",
       "      <td>61</td>\n",
       "      <td>-53.15</td>\n",
       "      <td>-70.92</td>\n",
       "      <td>48.20</td>\n",
       "      <td>25.28</td>\n",
       "    </tr>\n",
       "    <tr>\n",
       "      <th>7</th>\n",
       "      <td>Jamestown</td>\n",
       "      <td>100</td>\n",
       "      <td>SH</td>\n",
       "      <td>1603047108</td>\n",
       "      <td>95</td>\n",
       "      <td>-15.94</td>\n",
       "      <td>-5.72</td>\n",
       "      <td>61.43</td>\n",
       "      <td>16.28</td>\n",
       "    </tr>\n",
       "    <tr>\n",
       "      <th>8</th>\n",
       "      <td>Pevek</td>\n",
       "      <td>93</td>\n",
       "      <td>RU</td>\n",
       "      <td>1603047108</td>\n",
       "      <td>94</td>\n",
       "      <td>69.70</td>\n",
       "      <td>170.31</td>\n",
       "      <td>23.50</td>\n",
       "      <td>16.64</td>\n",
       "    </tr>\n",
       "    <tr>\n",
       "      <th>9</th>\n",
       "      <td>East London</td>\n",
       "      <td>71</td>\n",
       "      <td>ZA</td>\n",
       "      <td>1603047108</td>\n",
       "      <td>77</td>\n",
       "      <td>-33.02</td>\n",
       "      <td>27.91</td>\n",
       "      <td>60.80</td>\n",
       "      <td>5.82</td>\n",
       "    </tr>\n",
       "    <tr>\n",
       "      <th>10</th>\n",
       "      <td>Qaanaaq</td>\n",
       "      <td>93</td>\n",
       "      <td>GL</td>\n",
       "      <td>1603047109</td>\n",
       "      <td>88</td>\n",
       "      <td>77.48</td>\n",
       "      <td>-69.36</td>\n",
       "      <td>32.95</td>\n",
       "      <td>8.59</td>\n",
       "    </tr>\n",
       "    <tr>\n",
       "      <th>11</th>\n",
       "      <td>Hasaki</td>\n",
       "      <td>20</td>\n",
       "      <td>JP</td>\n",
       "      <td>1603047109</td>\n",
       "      <td>87</td>\n",
       "      <td>35.73</td>\n",
       "      <td>140.83</td>\n",
       "      <td>51.80</td>\n",
       "      <td>4.70</td>\n",
       "    </tr>\n",
       "    <tr>\n",
       "      <th>12</th>\n",
       "      <td>Vaini</td>\n",
       "      <td>75</td>\n",
       "      <td>TO</td>\n",
       "      <td>1603047109</td>\n",
       "      <td>88</td>\n",
       "      <td>-21.20</td>\n",
       "      <td>-175.20</td>\n",
       "      <td>69.80</td>\n",
       "      <td>10.29</td>\n",
       "    </tr>\n",
       "    <tr>\n",
       "      <th>13</th>\n",
       "      <td>Mar del Plata</td>\n",
       "      <td>40</td>\n",
       "      <td>AR</td>\n",
       "      <td>1603047109</td>\n",
       "      <td>69</td>\n",
       "      <td>-38.00</td>\n",
       "      <td>-57.56</td>\n",
       "      <td>78.80</td>\n",
       "      <td>8.05</td>\n",
       "    </tr>\n",
       "    <tr>\n",
       "      <th>14</th>\n",
       "      <td>Marabá</td>\n",
       "      <td>40</td>\n",
       "      <td>BR</td>\n",
       "      <td>1603046921</td>\n",
       "      <td>49</td>\n",
       "      <td>-5.37</td>\n",
       "      <td>-49.12</td>\n",
       "      <td>93.20</td>\n",
       "      <td>4.70</td>\n",
       "    </tr>\n",
       "    <tr>\n",
       "      <th>15</th>\n",
       "      <td>Faanui</td>\n",
       "      <td>9</td>\n",
       "      <td>PF</td>\n",
       "      <td>1603047109</td>\n",
       "      <td>81</td>\n",
       "      <td>-16.48</td>\n",
       "      <td>-151.75</td>\n",
       "      <td>79.09</td>\n",
       "      <td>10.18</td>\n",
       "    </tr>\n",
       "    <tr>\n",
       "      <th>16</th>\n",
       "      <td>Rehoboth</td>\n",
       "      <td>54</td>\n",
       "      <td>NA</td>\n",
       "      <td>1603047109</td>\n",
       "      <td>17</td>\n",
       "      <td>-23.32</td>\n",
       "      <td>17.08</td>\n",
       "      <td>76.35</td>\n",
       "      <td>3.80</td>\n",
       "    </tr>\n",
       "    <tr>\n",
       "      <th>17</th>\n",
       "      <td>Bluff</td>\n",
       "      <td>100</td>\n",
       "      <td>NZ</td>\n",
       "      <td>1603047109</td>\n",
       "      <td>94</td>\n",
       "      <td>-46.60</td>\n",
       "      <td>168.33</td>\n",
       "      <td>46.99</td>\n",
       "      <td>4.79</td>\n",
       "    </tr>\n",
       "    <tr>\n",
       "      <th>18</th>\n",
       "      <td>Bogotol</td>\n",
       "      <td>76</td>\n",
       "      <td>RU</td>\n",
       "      <td>1603047109</td>\n",
       "      <td>93</td>\n",
       "      <td>56.21</td>\n",
       "      <td>89.53</td>\n",
       "      <td>29.91</td>\n",
       "      <td>15.28</td>\n",
       "    </tr>\n",
       "    <tr>\n",
       "      <th>19</th>\n",
       "      <td>Leningradskiy</td>\n",
       "      <td>0</td>\n",
       "      <td>RU</td>\n",
       "      <td>1603047109</td>\n",
       "      <td>87</td>\n",
       "      <td>69.38</td>\n",
       "      <td>178.42</td>\n",
       "      <td>22.28</td>\n",
       "      <td>6.60</td>\n",
       "    </tr>\n",
       "    <tr>\n",
       "      <th>20</th>\n",
       "      <td>Inongo</td>\n",
       "      <td>64</td>\n",
       "      <td>CD</td>\n",
       "      <td>1603047109</td>\n",
       "      <td>84</td>\n",
       "      <td>-1.95</td>\n",
       "      <td>18.27</td>\n",
       "      <td>75.11</td>\n",
       "      <td>1.72</td>\n",
       "    </tr>\n",
       "    <tr>\n",
       "      <th>21</th>\n",
       "      <td>Port Elizabeth</td>\n",
       "      <td>0</td>\n",
       "      <td>ZA</td>\n",
       "      <td>1603047109</td>\n",
       "      <td>93</td>\n",
       "      <td>-33.92</td>\n",
       "      <td>25.57</td>\n",
       "      <td>57.20</td>\n",
       "      <td>9.17</td>\n",
       "    </tr>\n",
       "    <tr>\n",
       "      <th>22</th>\n",
       "      <td>Camocim</td>\n",
       "      <td>100</td>\n",
       "      <td>BR</td>\n",
       "      <td>1603047110</td>\n",
       "      <td>59</td>\n",
       "      <td>-2.90</td>\n",
       "      <td>-40.84</td>\n",
       "      <td>84.90</td>\n",
       "      <td>19.82</td>\n",
       "    </tr>\n",
       "    <tr>\n",
       "      <th>23</th>\n",
       "      <td>Makkah al Mukarramah</td>\n",
       "      <td>0</td>\n",
       "      <td>SA</td>\n",
       "      <td>1603047110</td>\n",
       "      <td>31</td>\n",
       "      <td>21.43</td>\n",
       "      <td>39.83</td>\n",
       "      <td>77.41</td>\n",
       "      <td>2.53</td>\n",
       "    </tr>\n",
       "    <tr>\n",
       "      <th>24</th>\n",
       "      <td>Lebu</td>\n",
       "      <td>0</td>\n",
       "      <td>CL</td>\n",
       "      <td>1603046887</td>\n",
       "      <td>64</td>\n",
       "      <td>-37.62</td>\n",
       "      <td>-73.65</td>\n",
       "      <td>55.60</td>\n",
       "      <td>8.39</td>\n",
       "    </tr>\n",
       "    <tr>\n",
       "      <th>25</th>\n",
       "      <td>Albany</td>\n",
       "      <td>90</td>\n",
       "      <td>AU</td>\n",
       "      <td>1603047110</td>\n",
       "      <td>87</td>\n",
       "      <td>-35.02</td>\n",
       "      <td>117.89</td>\n",
       "      <td>57.20</td>\n",
       "      <td>6.93</td>\n",
       "    </tr>\n",
       "    <tr>\n",
       "      <th>26</th>\n",
       "      <td>Turangi</td>\n",
       "      <td>100</td>\n",
       "      <td>NZ</td>\n",
       "      <td>1603047110</td>\n",
       "      <td>99</td>\n",
       "      <td>-39.00</td>\n",
       "      <td>175.93</td>\n",
       "      <td>57.00</td>\n",
       "      <td>4.65</td>\n",
       "    </tr>\n",
       "    <tr>\n",
       "      <th>27</th>\n",
       "      <td>Qeshm</td>\n",
       "      <td>0</td>\n",
       "      <td>IR</td>\n",
       "      <td>1603047110</td>\n",
       "      <td>15</td>\n",
       "      <td>26.96</td>\n",
       "      <td>56.27</td>\n",
       "      <td>73.40</td>\n",
       "      <td>4.70</td>\n",
       "    </tr>\n",
       "    <tr>\n",
       "      <th>28</th>\n",
       "      <td>New Norfolk</td>\n",
       "      <td>90</td>\n",
       "      <td>AU</td>\n",
       "      <td>1603047110</td>\n",
       "      <td>57</td>\n",
       "      <td>-42.78</td>\n",
       "      <td>147.06</td>\n",
       "      <td>50.00</td>\n",
       "      <td>9.17</td>\n",
       "    </tr>\n",
       "    <tr>\n",
       "      <th>29</th>\n",
       "      <td>Komsomol'skiy</td>\n",
       "      <td>0</td>\n",
       "      <td>RU</td>\n",
       "      <td>1603047110</td>\n",
       "      <td>93</td>\n",
       "      <td>43.98</td>\n",
       "      <td>46.70</td>\n",
       "      <td>57.72</td>\n",
       "      <td>4.79</td>\n",
       "    </tr>\n",
       "    <tr>\n",
       "      <th>30</th>\n",
       "      <td>Ajdabiya</td>\n",
       "      <td>100</td>\n",
       "      <td>LY</td>\n",
       "      <td>1603047111</td>\n",
       "      <td>75</td>\n",
       "      <td>30.76</td>\n",
       "      <td>20.23</td>\n",
       "      <td>75.18</td>\n",
       "      <td>14.27</td>\n",
       "    </tr>\n",
       "    <tr>\n",
       "      <th>31</th>\n",
       "      <td>Mikhaylovka</td>\n",
       "      <td>0</td>\n",
       "      <td>KZ</td>\n",
       "      <td>1603047111</td>\n",
       "      <td>36</td>\n",
       "      <td>43.00</td>\n",
       "      <td>71.50</td>\n",
       "      <td>44.60</td>\n",
       "      <td>4.47</td>\n",
       "    </tr>\n",
       "    <tr>\n",
       "      <th>32</th>\n",
       "      <td>Port-Gentil</td>\n",
       "      <td>75</td>\n",
       "      <td>GA</td>\n",
       "      <td>1603047111</td>\n",
       "      <td>94</td>\n",
       "      <td>-0.72</td>\n",
       "      <td>8.78</td>\n",
       "      <td>78.80</td>\n",
       "      <td>12.75</td>\n",
       "    </tr>\n",
       "    <tr>\n",
       "      <th>33</th>\n",
       "      <td>Windhoek</td>\n",
       "      <td>77</td>\n",
       "      <td>NA</td>\n",
       "      <td>1603047111</td>\n",
       "      <td>9</td>\n",
       "      <td>-22.56</td>\n",
       "      <td>17.08</td>\n",
       "      <td>84.20</td>\n",
       "      <td>3.36</td>\n",
       "    </tr>\n",
       "    <tr>\n",
       "      <th>34</th>\n",
       "      <td>Xining</td>\n",
       "      <td>1</td>\n",
       "      <td>CN</td>\n",
       "      <td>1603047111</td>\n",
       "      <td>79</td>\n",
       "      <td>36.62</td>\n",
       "      <td>101.77</td>\n",
       "      <td>35.26</td>\n",
       "      <td>0.40</td>\n",
       "    </tr>\n",
       "    <tr>\n",
       "      <th>35</th>\n",
       "      <td>San Ramón</td>\n",
       "      <td>98</td>\n",
       "      <td>BO</td>\n",
       "      <td>1603047111</td>\n",
       "      <td>29</td>\n",
       "      <td>-13.28</td>\n",
       "      <td>-64.72</td>\n",
       "      <td>98.87</td>\n",
       "      <td>4.74</td>\n",
       "    </tr>\n",
       "    <tr>\n",
       "      <th>36</th>\n",
       "      <td>Comodoro Rivadavia</td>\n",
       "      <td>20</td>\n",
       "      <td>AR</td>\n",
       "      <td>1603047111</td>\n",
       "      <td>20</td>\n",
       "      <td>-45.87</td>\n",
       "      <td>-67.50</td>\n",
       "      <td>68.00</td>\n",
       "      <td>31.09</td>\n",
       "    </tr>\n",
       "    <tr>\n",
       "      <th>37</th>\n",
       "      <td>Beira</td>\n",
       "      <td>0</td>\n",
       "      <td>MZ</td>\n",
       "      <td>1603047112</td>\n",
       "      <td>79</td>\n",
       "      <td>-19.84</td>\n",
       "      <td>34.84</td>\n",
       "      <td>72.23</td>\n",
       "      <td>8.41</td>\n",
       "    </tr>\n",
       "    <tr>\n",
       "      <th>38</th>\n",
       "      <td>Rikitea</td>\n",
       "      <td>100</td>\n",
       "      <td>PF</td>\n",
       "      <td>1603047112</td>\n",
       "      <td>80</td>\n",
       "      <td>-23.12</td>\n",
       "      <td>-134.97</td>\n",
       "      <td>74.97</td>\n",
       "      <td>20.31</td>\n",
       "    </tr>\n",
       "    <tr>\n",
       "      <th>39</th>\n",
       "      <td>Saint George</td>\n",
       "      <td>75</td>\n",
       "      <td>BM</td>\n",
       "      <td>1603047112</td>\n",
       "      <td>74</td>\n",
       "      <td>32.38</td>\n",
       "      <td>-64.68</td>\n",
       "      <td>82.40</td>\n",
       "      <td>16.11</td>\n",
       "    </tr>\n",
       "  </tbody>\n",
       "</table>\n",
       "</div>"
      ],
      "text/plain": [
       "                         City  Cloudiness Country        Date  Humidity  \\\n",
       "City ID                                                                   \n",
       "0                        Mana           0      GF  1603047108        64   \n",
       "1                      Barrow           1      US  1603046854        79   \n",
       "2             Catherinas Lust          87      GY  1603047108        64   \n",
       "3                     Te Anau         100      NZ  1603047056        92   \n",
       "4                   Geraldton           0      AU  1603047108        87   \n",
       "5                   Fairbanks          75      US  1603047108        78   \n",
       "6                Punta Arenas          75      CL  1603047032        61   \n",
       "7                   Jamestown         100      SH  1603047108        95   \n",
       "8                       Pevek          93      RU  1603047108        94   \n",
       "9                 East London          71      ZA  1603047108        77   \n",
       "10                    Qaanaaq          93      GL  1603047109        88   \n",
       "11                     Hasaki          20      JP  1603047109        87   \n",
       "12                      Vaini          75      TO  1603047109        88   \n",
       "13              Mar del Plata          40      AR  1603047109        69   \n",
       "14                     Marabá          40      BR  1603046921        49   \n",
       "15                     Faanui           9      PF  1603047109        81   \n",
       "16                   Rehoboth          54      NA  1603047109        17   \n",
       "17                      Bluff         100      NZ  1603047109        94   \n",
       "18                    Bogotol          76      RU  1603047109        93   \n",
       "19              Leningradskiy           0      RU  1603047109        87   \n",
       "20                     Inongo          64      CD  1603047109        84   \n",
       "21             Port Elizabeth           0      ZA  1603047109        93   \n",
       "22                    Camocim         100      BR  1603047110        59   \n",
       "23       Makkah al Mukarramah           0      SA  1603047110        31   \n",
       "24                       Lebu           0      CL  1603046887        64   \n",
       "25                     Albany          90      AU  1603047110        87   \n",
       "26                    Turangi         100      NZ  1603047110        99   \n",
       "27                      Qeshm           0      IR  1603047110        15   \n",
       "28                New Norfolk          90      AU  1603047110        57   \n",
       "29              Komsomol'skiy           0      RU  1603047110        93   \n",
       "30                   Ajdabiya         100      LY  1603047111        75   \n",
       "31                Mikhaylovka           0      KZ  1603047111        36   \n",
       "32                Port-Gentil          75      GA  1603047111        94   \n",
       "33                   Windhoek          77      NA  1603047111         9   \n",
       "34                     Xining           1      CN  1603047111        79   \n",
       "35                  San Ramón          98      BO  1603047111        29   \n",
       "36         Comodoro Rivadavia          20      AR  1603047111        20   \n",
       "37                      Beira           0      MZ  1603047112        79   \n",
       "38                    Rikitea         100      PF  1603047112        80   \n",
       "39               Saint George          75      BM  1603047112        74   \n",
       "\n",
       "           Lat     Lng  Max Temp  Wind Speed  \n",
       "City ID                                       \n",
       "0         5.66  -53.78     86.45       10.25  \n",
       "1        71.29 -156.79     21.20       16.11  \n",
       "2         6.40  -57.60     86.34        8.68  \n",
       "3       -45.42  167.72     44.08        1.32  \n",
       "4       -28.77  114.60     55.40       11.92  \n",
       "5        64.84 -147.72     12.20        1.14  \n",
       "6       -53.15  -70.92     48.20       25.28  \n",
       "7       -15.94   -5.72     61.43       16.28  \n",
       "8        69.70  170.31     23.50       16.64  \n",
       "9       -33.02   27.91     60.80        5.82  \n",
       "10       77.48  -69.36     32.95        8.59  \n",
       "11       35.73  140.83     51.80        4.70  \n",
       "12      -21.20 -175.20     69.80       10.29  \n",
       "13      -38.00  -57.56     78.80        8.05  \n",
       "14       -5.37  -49.12     93.20        4.70  \n",
       "15      -16.48 -151.75     79.09       10.18  \n",
       "16      -23.32   17.08     76.35        3.80  \n",
       "17      -46.60  168.33     46.99        4.79  \n",
       "18       56.21   89.53     29.91       15.28  \n",
       "19       69.38  178.42     22.28        6.60  \n",
       "20       -1.95   18.27     75.11        1.72  \n",
       "21      -33.92   25.57     57.20        9.17  \n",
       "22       -2.90  -40.84     84.90       19.82  \n",
       "23       21.43   39.83     77.41        2.53  \n",
       "24      -37.62  -73.65     55.60        8.39  \n",
       "25      -35.02  117.89     57.20        6.93  \n",
       "26      -39.00  175.93     57.00        4.65  \n",
       "27       26.96   56.27     73.40        4.70  \n",
       "28      -42.78  147.06     50.00        9.17  \n",
       "29       43.98   46.70     57.72        4.79  \n",
       "30       30.76   20.23     75.18       14.27  \n",
       "31       43.00   71.50     44.60        4.47  \n",
       "32       -0.72    8.78     78.80       12.75  \n",
       "33      -22.56   17.08     84.20        3.36  \n",
       "34       36.62  101.77     35.26        0.40  \n",
       "35      -13.28  -64.72     98.87        4.74  \n",
       "36      -45.87  -67.50     68.00       31.09  \n",
       "37      -19.84   34.84     72.23        8.41  \n",
       "38      -23.12 -134.97     74.97       20.31  \n",
       "39       32.38  -64.68     82.40       16.11  "
      ]
     },
     "execution_count": 6,
     "metadata": {},
     "output_type": "execute_result"
    }
   ],
   "source": [
    "# Get rid of any cities that have a humitidy greater than 100\n",
    "cleaned_city_df = city_df[city_df['Humidity'] <= 100]\n",
    "\n",
    "# Preview the cleaned data\n",
    "cleaned_city_df"
   ]
  },
  {
   "cell_type": "markdown",
   "metadata": {},
   "source": [
    "## Plotting the Data\n",
    "* Use proper labeling of the plots using plot titles (including date of analysis) and axes labels.\n",
    "* Save the plotted figures as .pngs."
   ]
  },
  {
   "cell_type": "code",
   "execution_count": 7,
   "metadata": {},
   "outputs": [],
   "source": [
    "# Create a variable to store today's date\n",
    "today = datetime.datetime.now().strftime('%m/%d/%Y')"
   ]
  },
  {
   "cell_type": "code",
   "execution_count": 8,
   "metadata": {},
   "outputs": [],
   "source": [
    "def setup_labels(compare_what):\n",
    "    # Setup Labels and annotate positions\n",
    "    if compare_what == 'Max Temp':\n",
    "        plot_label = 'Maximum Temperature'\n",
    "        y_label = \"Maximum Temperature (F)\"\n",
    "        northern_annotate = (20,20)\n",
    "        southern_annotate = (-30,50)\n",
    "    elif compare_what == \"Humidity\":\n",
    "        plot_label = \"Humidity\"\n",
    "        y_label = \"Humidity (%)\"\n",
    "        northern_annotate = (20,20)\n",
    "        southern_annotate = (-40,40)        \n",
    "    elif compare_what == \"Cloudiness\":\n",
    "        plot_label = \"Cloudiness\"\n",
    "        y_label = 'Cloudiness (%)'\n",
    "        northern_annotate = (20,20)\n",
    "        southern_annotate = (-40,80)         \n",
    "    else:\n",
    "        plot_label = \"Wind Speed\"\n",
    "        y_label = \"Wind Speed (mph)\"\n",
    "        northern_annotate = (30,14)\n",
    "        southern_annotate = (-40,20)\n",
    "    return plot_label,y_label,northern_annotate,southern_annotate"
   ]
  },
  {
   "cell_type": "code",
   "execution_count": 9,
   "metadata": {},
   "outputs": [],
   "source": [
    "def city_plot(df,compare_what):\n",
    "    \n",
    "    # Setup the x and y axis\n",
    "    x_axis = df['Lat']\n",
    "    y_axis = df[compare_what]\n",
    "\n",
    "    (plot_label, y_label, northern_annotate, southern_annotate) = setup_labels(compare_what)\n",
    "    \n",
    "    # Create the scatter plot\n",
    "    plt.scatter(x_axis, y_axis)\n",
    "\n",
    "    # Setup the title and labels\n",
    "    plt.title(f'City Latitude vs. {plot_label} ({today})', fontsize=12)\n",
    "    plt.xlabel('Latitude', fontsize=12)\n",
    "    plt.ylabel(f'{y_label}', fontsize=12)\n",
    "    plt.grid(True)\n",
    "\n",
    "    # Show the scatter plot\n",
    "    plt.show()    "
   ]
  },
  {
   "cell_type": "markdown",
   "metadata": {},
   "source": [
    "## Latitude vs. Temperature Plot"
   ]
  },
  {
   "cell_type": "code",
   "execution_count": 10,
   "metadata": {
    "scrolled": true
   },
   "outputs": [
    {
     "data": {
      "image/png": "[encoded data removed]",
      "text/plain": [
       "<Figure size 432x288 with 1 Axes>"
      ]
     },
     "metadata": {
      "needs_background": "light"
     },
     "output_type": "display_data"
    }
   ],
   "source": [
    "city_plot(cleaned_city_df,'Max Temp')"
   ]
  },
  {
   "cell_type": "markdown",
   "metadata": {},
   "source": [
    "## Latitude vs. Humidity Plot"
   ]
  },
  {
   "cell_type": "code",
   "execution_count": 11,
   "metadata": {},
   "outputs": [
    {
     "data": {
      "image/png": "[encoded data removed]",
      "text/plain": [
       "<Figure size 432x288 with 1 Axes>"
      ]
     },
     "metadata": {
      "needs_background": "light"
     },
     "output_type": "display_data"
    }
   ],
   "source": [
    "city_plot(cleaned_city_df,'Humidity')"
   ]
  },
  {
   "cell_type": "markdown",
   "metadata": {},
   "source": [
    "## Latitude vs. Cloudiness Plot"
   ]
  },
  {
   "cell_type": "code",
   "execution_count": 12,
   "metadata": {},
   "outputs": [
    {
     "data": {
      "image/png": "[encoded data removed]",
      "text/plain": [
       "<Figure size 432x288 with 1 Axes>"
      ]
     },
     "metadata": {
      "needs_background": "light"
     },
     "output_type": "display_data"
    }
   ],
   "source": [
    "city_plot(cleaned_city_df,'Cloudiness')"
   ]
  },
  {
   "cell_type": "markdown",
   "metadata": {},
   "source": [
    "## Latitude vs. Wind Speed Plot"
   ]
  },
  {
   "cell_type": "code",
   "execution_count": 13,
   "metadata": {},
   "outputs": [
    {
     "data": {
      "image/png": "[encoded data removed]",
      "text/plain": [
       "<Figure size 432x288 with 1 Axes>"
      ]
     },
     "metadata": {
      "needs_background": "light"
     },
     "output_type": "display_data"
    }
   ],
   "source": [
    "city_plot(cleaned_city_df,'Wind Speed')"
   ]
  },
  {
   "cell_type": "markdown",
   "metadata": {},
   "source": [
    "## Linear Regression"
   ]
  },
  {
   "cell_type": "code",
   "execution_count": 14,
   "metadata": {},
   "outputs": [],
   "source": [
    "def linear_regress(df,compare_what,hemisphere):\n",
    "    \n",
    "    # Restrict to our requested hemisphere\n",
    "    if hemisphere == 'Southern':\n",
    "        hemisphere_df = df.loc[df['Lat'] < 0]\n",
    "    else:\n",
    "        hemisphere_df = df.loc[df['Lat'] > 0]\n",
    "    \n",
    "    # Set the x and y axis\n",
    "    x_axis = hemisphere_df['Lat']\n",
    "    y_axis =hemisphere_df[compare_what]\n",
    "\n",
    "    # Perform the linear regression\n",
    "    (slope, intercept, rvalue, pvalue, stderr) = linregress(x_axis, y_axis)\n",
    "    \n",
    "    # Setup labels\n",
    "    (plot_label, y_label, northern_annotate, southern_annotate) = setup_labels(compare_what)\n",
    "    \n",
    "    # Output the R value\n",
    "    print(f\"The R-Value between Latitude and {compare_what} is {round(rvalue,2)} for the {hemisphere} Hemisphere\")\n",
    "\n",
    "    # Get the regress values\n",
    "    regress_values = x_axis * slope + intercept\n",
    "\n",
    "    # Setup the line equation\n",
    "    line_eq = \"y = \" + str(round(slope,2)) + \"x + \" + str(round(intercept,2))\n",
    "\n",
    "    # Generate the scatter plot for the line regression\n",
    "    plt.scatter(x_axis,y_axis)\n",
    "\n",
    "    # Inclue the line\n",
    "    plt.plot(x_axis,regress_values,\"r-\")\n",
    "\n",
    "    #plt.figure(figsize=(10,10))\n",
    "    # Setup the labels and title\n",
    "    plt.xlabel('Latitude', fontsize=12)\n",
    "    plt.ylabel(y_label, fontsize=12)\n",
    "    plt.title(f'City Latitude vs {plot_label} ({today})', fontsize=12)\n",
    "\n",
    "    # Add the line equation\n",
    "    if hemisphere == \"Northern\":\n",
    "        plt.annotate(line_eq,(northern_annotate),fontsize=15,color=\"red\")\n",
    "    else:\n",
    "        plt.annotate(line_eq,(southern_annotate),fontsize=15,color=\"red\")\n",
    "        \n",
    "    # Show the chart\n",
    "    plt.show() "
   ]
  },
  {
   "cell_type": "markdown",
   "metadata": {},
   "source": [
    "####  Northern Hemisphere - Max Temp vs. Latitude Linear Regression"
   ]
  },
  {
   "cell_type": "code",
   "execution_count": 15,
   "metadata": {},
   "outputs": [
    {
     "name": "stdout",
     "output_type": "stream",
     "text": [
      "The R-Value between Latitude and Max Temp is -0.9 for the Northern Hemisphere\n"
     ]
    },
    {
     "data": {
      "image/png": "[encoded data removed]",
      "text/plain": [
       "<Figure size 432x288 with 1 Axes>"
      ]
     },
     "metadata": {
      "needs_background": "light"
     },
     "output_type": "display_data"
    }
   ],
   "source": [
    "linear_regress(cleaned_city_df,'Max Temp','Northern')"
   ]
  },
  {
   "cell_type": "markdown",
   "metadata": {},
   "source": [
    "####  Southern Hemisphere - Max Temp vs. Latitude Linear Regression"
   ]
  },
  {
   "cell_type": "code",
   "execution_count": 16,
   "metadata": {},
   "outputs": [
    {
     "name": "stdout",
     "output_type": "stream",
     "text": [
      "The R-Value between Latitude and Max Temp is 0.77 for the Southern Hemisphere\n"
     ]
    },
    {
     "data": {
      "image/png": "[encoded data removed]",
      "text/plain": [
       "<Figure size 432x288 with 1 Axes>"
      ]
     },
     "metadata": {
      "needs_background": "light"
     },
     "output_type": "display_data"
    }
   ],
   "source": [
    "linear_regress(cleaned_city_df,'Max Temp','Southern')"
   ]
  },
  {
   "cell_type": "markdown",
   "metadata": {},
   "source": [
    "####  Northern Hemisphere - Humidity (%) vs. Latitude Linear Regression"
   ]
  },
  {
   "cell_type": "code",
   "execution_count": 17,
   "metadata": {},
   "outputs": [
    {
     "name": "stdout",
     "output_type": "stream",
     "text": [
      "The R-Value between Latitude and Humidity is 0.53 for the Northern Hemisphere\n"
     ]
    },
    {
     "data": {
      "image/png": "[encoded data removed]",
      "text/plain": [
       "<Figure size 432x288 with 1 Axes>"
      ]
     },
     "metadata": {
      "needs_background": "light"
     },
     "output_type": "display_data"
    }
   ],
   "source": [
    "linear_regress(cleaned_city_df,'Humidity','Northern')"
   ]
  },
  {
   "cell_type": "markdown",
   "metadata": {},
   "source": [
    "####  Southern Hemisphere - Humidity (%) vs. Latitude Linear Regression"
   ]
  },
  {
   "cell_type": "code",
   "execution_count": 18,
   "metadata": {},
   "outputs": [
    {
     "name": "stdout",
     "output_type": "stream",
     "text": [
      "The R-Value between Latitude and Humidity is -0.03 for the Southern Hemisphere\n"
     ]
    },
    {
     "data": {
      "image/png": "[encoded data removed]",
      "text/plain": [
       "<Figure size 432x288 with 1 Axes>"
      ]
     },
     "metadata": {
      "needs_background": "light"
     },
     "output_type": "display_data"
    }
   ],
   "source": [
    "linear_regress(cleaned_city_df,'Humidity','Southern')"
   ]
  },
  {
   "cell_type": "markdown",
   "metadata": {},
   "source": [
    "####  Northern Hemisphere - Cloudiness (%) vs. Latitude Linear Regression"
   ]
  },
  {
   "cell_type": "code",
   "execution_count": 19,
   "metadata": {},
   "outputs": [
    {
     "name": "stdout",
     "output_type": "stream",
     "text": [
      "The R-Value between Latitude and Cloudiness is 0.19 for the Northern Hemisphere\n"
     ]
    },
    {
     "data": {
      "image/png": "[encoded data removed]",
      "text/plain": [
       "<Figure size 432x288 with 1 Axes>"
      ]
     },
     "metadata": {
      "needs_background": "light"
     },
     "output_type": "display_data"
    }
   ],
   "source": [
    "linear_regress(cleaned_city_df,'Cloudiness','Northern')"
   ]
  },
  {
   "cell_type": "markdown",
   "metadata": {},
   "source": [
    "####  Southern Hemisphere - Cloudiness (%) vs. Latitude Linear Regression"
   ]
  },
  {
   "cell_type": "code",
   "execution_count": 20,
   "metadata": {},
   "outputs": [
    {
     "name": "stdout",
     "output_type": "stream",
     "text": [
      "The R-Value between Latitude and Cloudiness is 0.02 for the Southern Hemisphere\n"
     ]
    },
    {
     "data": {
      "image/png": "[encoded data removed]",
      "text/plain": [
       "<Figure size 432x288 with 1 Axes>"
      ]
     },
     "metadata": {
      "needs_background": "light"
     },
     "output_type": "display_data"
    }
   ],
   "source": [
    "linear_regress(cleaned_city_df,'Cloudiness','Southern')"
   ]
  },
  {
   "cell_type": "markdown",
   "metadata": {},
   "source": [
    "####  Northern Hemisphere - Wind Speed (mph) vs. Latitude Linear Regression"
   ]
  },
  {
   "cell_type": "code",
   "execution_count": 21,
   "metadata": {},
   "outputs": [
    {
     "name": "stdout",
     "output_type": "stream",
     "text": [
      "The R-Value between Latitude and Wind Speed is 0.18 for the Northern Hemisphere\n"
     ]
    },
    {
     "data": {
      "image/png": "[encoded data removed]",
      "text/plain": [
       "<Figure size 432x288 with 1 Axes>"
      ]
     },
     "metadata": {
      "needs_background": "light"
     },
     "output_type": "display_data"
    }
   ],
   "source": [
    "linear_regress(cleaned_city_df,'Wind Speed','Northern')"
   ]
  },
  {
   "cell_type": "markdown",
   "metadata": {},
   "source": [
    "####  Southern Hemisphere - Wind Speed (mph) vs. Latitude Linear Regression"
   ]
  },
  {
   "cell_type": "code",
   "execution_count": 22,
   "metadata": {},
   "outputs": [
    {
     "name": "stdout",
     "output_type": "stream",
     "text": [
      "The R-Value between Latitude and Wind Speed is -0.15 for the Southern Hemisphere\n"
     ]
    },
    {
     "data": {
      "image/png": "[encoded data removed]",
      "text/plain": [
       "<Figure size 432x288 with 1 Axes>"
      ]
     },
     "metadata": {
      "needs_background": "light"
     },
     "output_type": "display_data"
    }
   ],
   "source": [
    "linear_regress(cleaned_city_df,'Wind Speed','Southern')"
   ]
  },
  {
   "cell_type": "code",
   "execution_count": null,
   "metadata": {},
   "outputs": [],
   "source": []
  },
  {
   "cell_type": "code",
   "execution_count": null,
   "metadata": {},
   "outputs": [],
   "source": []
  },
  {
   "cell_type": "code",
   "execution_count": null,
   "metadata": {},
   "outputs": [],
   "source": []
  }
 ],
 "metadata": {
  "anaconda-cloud": {},
  "kernel_info": {
   "name": "python3"
  },
  "kernelspec": {
   "display_name": "Python [conda env:PythonData]",
   "language": "python",
   "name": "conda-env-PythonData-py"
  },
  "language_info": {
   "codemirror_mode": {
    "name": "ipython",
    "version": 3
   },
   "file_extension": ".py",
   "mimetype": "text/x-python",
   "name": "python",
   "nbconvert_exporter": "python",
   "pygments_lexer": "ipython3",
   "version": "3.6.10"
  },
  "latex_envs": {
   "LaTeX_envs_menu_present": true,
   "autoclose": false,
   "autocomplete": true,
   "bibliofile": "biblio.bib",
   "cite_by": "apalike",
   "current_citInitial": 1,
   "eqLabelWithNumbers": true,
   "eqNumInitial": 1,
   "hotkeys": {
    "equation": "Ctrl-E",
    "itemize": "Ctrl-I"
   },
   "labels_anchors": false,
   "latex_user_defs": false,
   "report_style_numbering": false,
   "user_envs_cfg": false
  },
  "nteract": {
   "version": "0.12.3"
  }
 },
 "nbformat": 4,
 "nbformat_minor": 2
}
